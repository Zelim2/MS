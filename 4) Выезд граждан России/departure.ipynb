{
 "cells": [
  {
   "cell_type": "code",
   "execution_count": 1,
   "metadata": {},
   "outputs": [],
   "source": [
    "#!pip install folium\n",
    "import folium\n",
    "\n",
    "# Import folium MarkerCluster plugin\n",
    "from folium.plugins import MarkerCluster\n",
    "# Import folium MousePosition plugin\n",
    "from folium.plugins import MousePosition\n",
    "# Import folium DivIcon plugin\n",
    "from folium.features import DivIcon"
   ]
  },
  {
   "cell_type": "code",
   "execution_count": 2,
   "metadata": {},
   "outputs": [],
   "source": [
    "#!pip install geopandas\n",
    "import geopandas as gpd\n",
    "import pandas as pd\n",
    "import numpy as np\n",
    "from urllib import request\n",
    "import json"
   ]
  },
  {
   "cell_type": "code",
   "execution_count": null,
   "metadata": {},
   "outputs": [],
   "source": []
  },
  {
   "cell_type": "code",
   "execution_count": 44,
   "metadata": {},
   "outputs": [
    {
     "name": "stderr",
     "output_type": "stream",
     "text": [
      "C:\\Users\\Bzee\\AppData\\Local\\Temp\\ipykernel_14456\\642509732.py:2: FutureWarning: The default value of regex will change from True to False in a future version.\n",
      "  df['country'] = df['country'].str.replace(r',[^,]*$', '')\n"
     ]
    }
   ],
   "source": [
    "df = pd.read_excel(\"departure.xls\")\n",
    "df['country'] = df['country'].str.replace(r',[^,]*$', '')"
   ]
  },
  {
   "cell_type": "code",
   "execution_count": 52,
   "metadata": {},
   "outputs": [
    {
     "data": {
      "text/html": [
       "<div>\n",
       "<style scoped>\n",
       "    .dataframe tbody tr th:only-of-type {\n",
       "        vertical-align: middle;\n",
       "    }\n",
       "\n",
       "    .dataframe tbody tr th {\n",
       "        vertical-align: top;\n",
       "    }\n",
       "\n",
       "    .dataframe thead th {\n",
       "        text-align: right;\n",
       "    }\n",
       "</style>\n",
       "<table border=\"1\" class=\"dataframe\">\n",
       "  <thead>\n",
       "    <tr style=\"text-align: right;\">\n",
       "      <th></th>\n",
       "      <th>country</th>\n",
       "      <th>1_2021</th>\n",
       "      <th>2_2021</th>\n",
       "      <th>3_2021</th>\n",
       "      <th>4_2021</th>\n",
       "      <th>1_2022</th>\n",
       "      <th>2_2022</th>\n",
       "      <th>3_2022</th>\n",
       "    </tr>\n",
       "  </thead>\n",
       "  <tbody>\n",
       "    <tr>\n",
       "      <th>0</th>\n",
       "      <td>АБХАЗИЯ</td>\n",
       "      <td>789330.0</td>\n",
       "      <td>1243382.0</td>\n",
       "      <td>2118131.0</td>\n",
       "      <td>1026973.0</td>\n",
       "      <td>744548.0</td>\n",
       "      <td>1199405.0</td>\n",
       "      <td>2475574.0</td>\n",
       "    </tr>\n",
       "    <tr>\n",
       "      <th>1</th>\n",
       "      <td>АВСТРАЛИЯ</td>\n",
       "      <td>12.0</td>\n",
       "      <td>4.0</td>\n",
       "      <td>16.0</td>\n",
       "      <td>NaN</td>\n",
       "      <td>5.0</td>\n",
       "      <td>NaN</td>\n",
       "      <td>NaN</td>\n",
       "    </tr>\n",
       "    <tr>\n",
       "      <th>2</th>\n",
       "      <td>АВСТРИЯ</td>\n",
       "      <td>7029.0</td>\n",
       "      <td>14296.0</td>\n",
       "      <td>23005.0</td>\n",
       "      <td>18606.0</td>\n",
       "      <td>12611.0</td>\n",
       "      <td>182.0</td>\n",
       "      <td>4.0</td>\n",
       "    </tr>\n",
       "    <tr>\n",
       "      <th>3</th>\n",
       "      <td>АЗЕРБАЙДЖАН</td>\n",
       "      <td>20378.0</td>\n",
       "      <td>50942.0</td>\n",
       "      <td>73243.0</td>\n",
       "      <td>71928.0</td>\n",
       "      <td>56475.0</td>\n",
       "      <td>64506.0</td>\n",
       "      <td>145341.0</td>\n",
       "    </tr>\n",
       "    <tr>\n",
       "      <th>4</th>\n",
       "      <td>АЛБАНИЯ</td>\n",
       "      <td>47.0</td>\n",
       "      <td>765.0</td>\n",
       "      <td>5657.0</td>\n",
       "      <td>652.0</td>\n",
       "      <td>65.0</td>\n",
       "      <td>36.0</td>\n",
       "      <td>45.0</td>\n",
       "    </tr>\n",
       "    <tr>\n",
       "      <th>...</th>\n",
       "      <td>...</td>\n",
       "      <td>...</td>\n",
       "      <td>...</td>\n",
       "      <td>...</td>\n",
       "      <td>...</td>\n",
       "      <td>...</td>\n",
       "      <td>...</td>\n",
       "      <td>...</td>\n",
       "    </tr>\n",
       "    <tr>\n",
       "      <th>158</th>\n",
       "      <td>ЭФИОПИЯ</td>\n",
       "      <td>3766.0</td>\n",
       "      <td>3730.0</td>\n",
       "      <td>2034.0</td>\n",
       "      <td>2839.0</td>\n",
       "      <td>1213.0</td>\n",
       "      <td>NaN</td>\n",
       "      <td>3128.0</td>\n",
       "    </tr>\n",
       "    <tr>\n",
       "      <th>159</th>\n",
       "      <td>ЮЖНАЯ АФРИКА</td>\n",
       "      <td>5.0</td>\n",
       "      <td>14.0</td>\n",
       "      <td>60.0</td>\n",
       "      <td>2.0</td>\n",
       "      <td>22.0</td>\n",
       "      <td>85.0</td>\n",
       "      <td>46.0</td>\n",
       "    </tr>\n",
       "    <tr>\n",
       "      <th>160</th>\n",
       "      <td>ЮЖНАЯ ОСЕТИЯ</td>\n",
       "      <td>65309.0</td>\n",
       "      <td>100693.0</td>\n",
       "      <td>120594.0</td>\n",
       "      <td>94877.0</td>\n",
       "      <td>57662.0</td>\n",
       "      <td>94016.0</td>\n",
       "      <td>117112.0</td>\n",
       "    </tr>\n",
       "    <tr>\n",
       "      <th>161</th>\n",
       "      <td>ЯПОНИЯ</td>\n",
       "      <td>5818.0</td>\n",
       "      <td>6993.0</td>\n",
       "      <td>8269.0</td>\n",
       "      <td>6752.0</td>\n",
       "      <td>5505.0</td>\n",
       "      <td>5046.0</td>\n",
       "      <td>5260.0</td>\n",
       "    </tr>\n",
       "    <tr>\n",
       "      <th>162</th>\n",
       "      <td>БЕЗ ЗАХОДА В ИНОСТРАННЫЕ ПОРТЫ</td>\n",
       "      <td>17440.0</td>\n",
       "      <td>22002.0</td>\n",
       "      <td>19829.0</td>\n",
       "      <td>19929.0</td>\n",
       "      <td>15646.0</td>\n",
       "      <td>21844.0</td>\n",
       "      <td>21057.0</td>\n",
       "    </tr>\n",
       "  </tbody>\n",
       "</table>\n",
       "<p>163 rows × 8 columns</p>\n",
       "</div>"
      ],
      "text/plain": [
       "                            country    1_2021     2_2021     3_2021  \\\n",
       "0                          АБХАЗИЯ   789330.0  1243382.0  2118131.0   \n",
       "1                         АВСТРАЛИЯ      12.0        4.0       16.0   \n",
       "2                           АВСТРИЯ    7029.0    14296.0    23005.0   \n",
       "3                       АЗЕРБАЙДЖАН   20378.0    50942.0    73243.0   \n",
       "4                           АЛБАНИЯ      47.0      765.0     5657.0   \n",
       "..                              ...       ...        ...        ...   \n",
       "158                         ЭФИОПИЯ    3766.0     3730.0     2034.0   \n",
       "159                    ЮЖНАЯ АФРИКА       5.0       14.0       60.0   \n",
       "160                   ЮЖНАЯ ОСЕТИЯ    65309.0   100693.0   120594.0   \n",
       "161                          ЯПОНИЯ    5818.0     6993.0     8269.0   \n",
       "162  БЕЗ ЗАХОДА В ИНОСТРАННЫЕ ПОРТЫ   17440.0    22002.0    19829.0   \n",
       "\n",
       "        4_2021    1_2022     2_2022     3_2022  \n",
       "0    1026973.0  744548.0  1199405.0  2475574.0  \n",
       "1          NaN       5.0        NaN        NaN  \n",
       "2      18606.0   12611.0      182.0        4.0  \n",
       "3      71928.0   56475.0    64506.0   145341.0  \n",
       "4        652.0      65.0       36.0       45.0  \n",
       "..         ...       ...        ...        ...  \n",
       "158     2839.0    1213.0        NaN     3128.0  \n",
       "159        2.0      22.0       85.0       46.0  \n",
       "160    94877.0   57662.0    94016.0   117112.0  \n",
       "161     6752.0    5505.0     5046.0     5260.0  \n",
       "162    19929.0   15646.0    21844.0    21057.0  \n",
       "\n",
       "[163 rows x 8 columns]"
      ]
     },
     "execution_count": 52,
     "metadata": {},
     "output_type": "execute_result"
    }
   ],
   "source": [
    "df"
   ]
  },
  {
   "cell_type": "code",
   "execution_count": 4,
   "metadata": {},
   "outputs": [],
   "source": [
    "\n",
    "#pip install pycountry"
   ]
  },
  {
   "cell_type": "code",
   "execution_count": 15,
   "metadata": {},
   "outputs": [],
   "source": [
    "#pip install openpyxl"
   ]
  },
  {
   "cell_type": "code",
   "execution_count": 51,
   "metadata": {},
   "outputs": [
    {
     "data": {
      "text/html": [
       "<div>\n",
       "<style scoped>\n",
       "    .dataframe tbody tr th:only-of-type {\n",
       "        vertical-align: middle;\n",
       "    }\n",
       "\n",
       "    .dataframe tbody tr th {\n",
       "        vertical-align: top;\n",
       "    }\n",
       "\n",
       "    .dataframe thead th {\n",
       "        text-align: right;\n",
       "    }\n",
       "</style>\n",
       "<table border=\"1\" class=\"dataframe\">\n",
       "  <thead>\n",
       "    <tr style=\"text-align: right;\">\n",
       "      <th></th>\n",
       "      <th>country</th>\n",
       "      <th>alpha3</th>\n",
       "    </tr>\n",
       "  </thead>\n",
       "  <tbody>\n",
       "    <tr>\n",
       "      <th>0</th>\n",
       "      <td>АБХАЗИЯ</td>\n",
       "      <td>ABH</td>\n",
       "    </tr>\n",
       "    <tr>\n",
       "      <th>1</th>\n",
       "      <td>АНДОРРА</td>\n",
       "      <td>AND</td>\n",
       "    </tr>\n",
       "    <tr>\n",
       "      <th>2</th>\n",
       "      <td>ОБЪЕДИНЕННЫЕ АРАБСКИЕ ЭМИРАТЫ</td>\n",
       "      <td>ARE</td>\n",
       "    </tr>\n",
       "    <tr>\n",
       "      <th>3</th>\n",
       "      <td>АФГАНИСТАН</td>\n",
       "      <td>AFG</td>\n",
       "    </tr>\n",
       "    <tr>\n",
       "      <th>4</th>\n",
       "      <td>АНТИГУА И БАРБУДА</td>\n",
       "      <td>ATG</td>\n",
       "    </tr>\n",
       "    <tr>\n",
       "      <th>...</th>\n",
       "      <td>...</td>\n",
       "      <td>...</td>\n",
       "    </tr>\n",
       "    <tr>\n",
       "      <th>246</th>\n",
       "      <td>ЙЕМЕН</td>\n",
       "      <td>YEM</td>\n",
       "    </tr>\n",
       "    <tr>\n",
       "      <th>247</th>\n",
       "      <td>МАЙОТТА</td>\n",
       "      <td>MYT</td>\n",
       "    </tr>\n",
       "    <tr>\n",
       "      <th>248</th>\n",
       "      <td>ЮЖНАЯ АФРИКА</td>\n",
       "      <td>ZAF</td>\n",
       "    </tr>\n",
       "    <tr>\n",
       "      <th>249</th>\n",
       "      <td>ЗАМБИЯ</td>\n",
       "      <td>ZMB</td>\n",
       "    </tr>\n",
       "    <tr>\n",
       "      <th>250</th>\n",
       "      <td>ЗИМБАБВЕ</td>\n",
       "      <td>ZWE</td>\n",
       "    </tr>\n",
       "  </tbody>\n",
       "</table>\n",
       "<p>251 rows × 2 columns</p>\n",
       "</div>"
      ],
      "text/plain": [
       "                           country alpha3\n",
       "0                          АБХАЗИЯ    ABH\n",
       "1                          АНДОРРА    AND\n",
       "2    ОБЪЕДИНЕННЫЕ АРАБСКИЕ ЭМИРАТЫ    ARE\n",
       "3                       АФГАНИСТАН    AFG\n",
       "4                АНТИГУА И БАРБУДА    ATG\n",
       "..                             ...    ...\n",
       "246                          ЙЕМЕН    YEM\n",
       "247                        МАЙОТТА    MYT\n",
       "248                   ЮЖНАЯ АФРИКА    ZAF\n",
       "249                         ЗАМБИЯ    ZMB\n",
       "250                       ЗИМБАБВЕ    ZWE\n",
       "\n",
       "[251 rows x 2 columns]"
      ]
     },
     "execution_count": 51,
     "metadata": {},
     "output_type": "execute_result"
    }
   ],
   "source": [
    "import openpyxl\n",
    "iso = pd.read_excel('country-iso.xlsx')\n",
    "iso3 = iso[['countryru','alpha3']]\n",
    "iso3 = iso3.rename(columns = {\"countryru\":\"country\"})\n",
    "iso3['country'] = iso3['country'].str.upper()\n",
    "iso3"
   ]
  },
  {
   "cell_type": "code",
   "execution_count": 53,
   "metadata": {},
   "outputs": [
    {
     "data": {
      "text/html": [
       "<div>\n",
       "<style scoped>\n",
       "    .dataframe tbody tr th:only-of-type {\n",
       "        vertical-align: middle;\n",
       "    }\n",
       "\n",
       "    .dataframe tbody tr th {\n",
       "        vertical-align: top;\n",
       "    }\n",
       "\n",
       "    .dataframe thead th {\n",
       "        text-align: right;\n",
       "    }\n",
       "</style>\n",
       "<table border=\"1\" class=\"dataframe\">\n",
       "  <thead>\n",
       "    <tr style=\"text-align: right;\">\n",
       "      <th></th>\n",
       "      <th>country</th>\n",
       "      <th>1_2021</th>\n",
       "      <th>2_2021</th>\n",
       "      <th>3_2021</th>\n",
       "      <th>4_2021</th>\n",
       "      <th>1_2022</th>\n",
       "      <th>2_2022</th>\n",
       "      <th>3_2022</th>\n",
       "      <th>alpha3</th>\n",
       "    </tr>\n",
       "  </thead>\n",
       "  <tbody>\n",
       "    <tr>\n",
       "      <th>0</th>\n",
       "      <td>АВСТРАЛИЯ</td>\n",
       "      <td>12.0</td>\n",
       "      <td>4.0</td>\n",
       "      <td>16.0</td>\n",
       "      <td>NaN</td>\n",
       "      <td>5.0</td>\n",
       "      <td>NaN</td>\n",
       "      <td>NaN</td>\n",
       "      <td>AUS</td>\n",
       "    </tr>\n",
       "    <tr>\n",
       "      <th>1</th>\n",
       "      <td>АВСТРИЯ</td>\n",
       "      <td>7029.0</td>\n",
       "      <td>14296.0</td>\n",
       "      <td>23005.0</td>\n",
       "      <td>18606.0</td>\n",
       "      <td>12611.0</td>\n",
       "      <td>182.0</td>\n",
       "      <td>4.0</td>\n",
       "      <td>AUT</td>\n",
       "    </tr>\n",
       "    <tr>\n",
       "      <th>2</th>\n",
       "      <td>АЗЕРБАЙДЖАН</td>\n",
       "      <td>20378.0</td>\n",
       "      <td>50942.0</td>\n",
       "      <td>73243.0</td>\n",
       "      <td>71928.0</td>\n",
       "      <td>56475.0</td>\n",
       "      <td>64506.0</td>\n",
       "      <td>145341.0</td>\n",
       "      <td>AZE</td>\n",
       "    </tr>\n",
       "    <tr>\n",
       "      <th>3</th>\n",
       "      <td>АЛБАНИЯ</td>\n",
       "      <td>47.0</td>\n",
       "      <td>765.0</td>\n",
       "      <td>5657.0</td>\n",
       "      <td>652.0</td>\n",
       "      <td>65.0</td>\n",
       "      <td>36.0</td>\n",
       "      <td>45.0</td>\n",
       "      <td>ALB</td>\n",
       "    </tr>\n",
       "    <tr>\n",
       "      <th>4</th>\n",
       "      <td>АЛЖИР</td>\n",
       "      <td>444.0</td>\n",
       "      <td>716.0</td>\n",
       "      <td>993.0</td>\n",
       "      <td>1199.0</td>\n",
       "      <td>499.0</td>\n",
       "      <td>1158.0</td>\n",
       "      <td>1272.0</td>\n",
       "      <td>DZA</td>\n",
       "    </tr>\n",
       "    <tr>\n",
       "      <th>...</th>\n",
       "      <td>...</td>\n",
       "      <td>...</td>\n",
       "      <td>...</td>\n",
       "      <td>...</td>\n",
       "      <td>...</td>\n",
       "      <td>...</td>\n",
       "      <td>...</td>\n",
       "      <td>...</td>\n",
       "      <td>...</td>\n",
       "    </tr>\n",
       "    <tr>\n",
       "      <th>146</th>\n",
       "      <td>ЭЛЬ-САЛЬВАДОР</td>\n",
       "      <td>6.0</td>\n",
       "      <td>NaN</td>\n",
       "      <td>NaN</td>\n",
       "      <td>NaN</td>\n",
       "      <td>NaN</td>\n",
       "      <td>NaN</td>\n",
       "      <td>NaN</td>\n",
       "      <td>SLV</td>\n",
       "    </tr>\n",
       "    <tr>\n",
       "      <th>147</th>\n",
       "      <td>ЭСТОНИЯ</td>\n",
       "      <td>29364.0</td>\n",
       "      <td>47609.0</td>\n",
       "      <td>92868.0</td>\n",
       "      <td>114595.0</td>\n",
       "      <td>125426.0</td>\n",
       "      <td>171552.0</td>\n",
       "      <td>239470.0</td>\n",
       "      <td>EST</td>\n",
       "    </tr>\n",
       "    <tr>\n",
       "      <th>148</th>\n",
       "      <td>ЭФИОПИЯ</td>\n",
       "      <td>3766.0</td>\n",
       "      <td>3730.0</td>\n",
       "      <td>2034.0</td>\n",
       "      <td>2839.0</td>\n",
       "      <td>1213.0</td>\n",
       "      <td>NaN</td>\n",
       "      <td>3128.0</td>\n",
       "      <td>ETH</td>\n",
       "    </tr>\n",
       "    <tr>\n",
       "      <th>149</th>\n",
       "      <td>ЮЖНАЯ АФРИКА</td>\n",
       "      <td>5.0</td>\n",
       "      <td>14.0</td>\n",
       "      <td>60.0</td>\n",
       "      <td>2.0</td>\n",
       "      <td>22.0</td>\n",
       "      <td>85.0</td>\n",
       "      <td>46.0</td>\n",
       "      <td>ZAF</td>\n",
       "    </tr>\n",
       "    <tr>\n",
       "      <th>150</th>\n",
       "      <td>ЯПОНИЯ</td>\n",
       "      <td>5818.0</td>\n",
       "      <td>6993.0</td>\n",
       "      <td>8269.0</td>\n",
       "      <td>6752.0</td>\n",
       "      <td>5505.0</td>\n",
       "      <td>5046.0</td>\n",
       "      <td>5260.0</td>\n",
       "      <td>JPN</td>\n",
       "    </tr>\n",
       "  </tbody>\n",
       "</table>\n",
       "<p>151 rows × 9 columns</p>\n",
       "</div>"
      ],
      "text/plain": [
       "           country   1_2021   2_2021   3_2021    4_2021    1_2022    2_2022  \\\n",
       "0        АВСТРАЛИЯ     12.0      4.0     16.0       NaN       5.0       NaN   \n",
       "1          АВСТРИЯ   7029.0  14296.0  23005.0   18606.0   12611.0     182.0   \n",
       "2      АЗЕРБАЙДЖАН  20378.0  50942.0  73243.0   71928.0   56475.0   64506.0   \n",
       "3          АЛБАНИЯ     47.0    765.0   5657.0     652.0      65.0      36.0   \n",
       "4            АЛЖИР    444.0    716.0    993.0    1199.0     499.0    1158.0   \n",
       "..             ...      ...      ...      ...       ...       ...       ...   \n",
       "146  ЭЛЬ-САЛЬВАДОР      6.0      NaN      NaN       NaN       NaN       NaN   \n",
       "147        ЭСТОНИЯ  29364.0  47609.0  92868.0  114595.0  125426.0  171552.0   \n",
       "148        ЭФИОПИЯ   3766.0   3730.0   2034.0    2839.0    1213.0       NaN   \n",
       "149   ЮЖНАЯ АФРИКА      5.0     14.0     60.0       2.0      22.0      85.0   \n",
       "150         ЯПОНИЯ   5818.0   6993.0   8269.0    6752.0    5505.0    5046.0   \n",
       "\n",
       "       3_2022 alpha3  \n",
       "0         NaN    AUS  \n",
       "1         4.0    AUT  \n",
       "2    145341.0    AZE  \n",
       "3        45.0    ALB  \n",
       "4      1272.0    DZA  \n",
       "..        ...    ...  \n",
       "146       NaN    SLV  \n",
       "147  239470.0    EST  \n",
       "148    3128.0    ETH  \n",
       "149      46.0    ZAF  \n",
       "150    5260.0    JPN  \n",
       "\n",
       "[151 rows x 9 columns]"
      ]
     },
     "execution_count": 53,
     "metadata": {},
     "output_type": "execute_result"
    }
   ],
   "source": [
    "df = df.merge(iso3, on = \"country\")\n",
    "df"
   ]
  },
  {
   "cell_type": "code",
   "execution_count": 61,
   "metadata": {},
   "outputs": [],
   "source": [
    "df = df[['country','3_2022','alpha3']]"
   ]
  },
  {
   "cell_type": "code",
   "execution_count": 110,
   "metadata": {},
   "outputs": [
    {
     "data": {
      "application/vnd.plotly.v1+json": {
       "config": {
        "plotlyServerURL": "https://plot.ly"
       },
       "data": [
        {
         "locations": [
          "AUS",
          "AUT",
          "AZE",
          "ALB",
          "DZA",
          "AGO",
          "ATA",
          "ARG",
          "ARM",
          "BHS",
          "BGD",
          "BHR",
          "BEL",
          "BEN",
          "BGR",
          "BWA",
          "BRA",
          "BRN",
          "HUN",
          "VNM",
          "HTI",
          "GUY",
          "GHA",
          "GTM",
          "GIN",
          "DEU",
          "GIB",
          "HND",
          "HKG",
          "GRL",
          "GRC",
          "GEO",
          "DNK",
          "DMA",
          "DOM",
          "EGY",
          "ESH",
          "ZWE",
          "ISR",
          "IND",
          "IDN",
          "JOR",
          "IRQ",
          "IRN",
          "IRL",
          "ISL",
          "ESP",
          "ITA",
          "YEM",
          "CPV",
          "KAZ",
          "KHM",
          "CMR",
          "CAN",
          "QAT",
          "KEN",
          "CYP",
          "KGZ",
          "KIR",
          "CHN",
          "COL",
          "COD",
          "COG",
          "PRK",
          "KOR",
          "CRI",
          "CUB",
          "KWT",
          "LVA",
          "LBR",
          "LBN",
          "LBY",
          "LTU",
          "LUX",
          "MUS",
          "MRT",
          "MAC",
          "MKD",
          "MYS",
          "MLI",
          "MDV",
          "MLT",
          "MAR",
          "MHL",
          "MEX",
          "MOZ",
          "MDA",
          "MNG",
          "MMR",
          "NAM",
          "NPL",
          "NGA",
          "NLD",
          "NZL",
          "NOR",
          "ARE",
          "OMN",
          "PAK",
          "PAN",
          "PNG",
          "PER",
          "POL",
          "PRT",
          "PRI",
          "RWA",
          "ROU",
          "SAU",
          "SYC",
          "SEN",
          "MAF",
          "SRB",
          "SGP",
          "SYR",
          "SVK",
          "SVN",
          "GBR",
          "USA",
          "SDN",
          "SLE",
          "TJK",
          "THA",
          "TWN",
          "TZA",
          "TGO",
          "TUN",
          "TKM",
          "TUR",
          "UGA",
          "UZB",
          "UKR",
          "URY",
          "FRO",
          "PHL",
          "FIN",
          "FRA",
          "HRV",
          "CAF",
          "TCD",
          "MNE",
          "CZE",
          "CHL",
          "CHE",
          "SWE",
          "LKA",
          "ECU",
          "GNQ",
          "SLV",
          "EST",
          "ETH",
          "ZAF",
          "JPN"
         ],
         "marker": {
          "line": {
           "width": 0.5
          }
         },
         "text": [
          "АВСТРАЛИЯ",
          "АВСТРИЯ",
          "АЗЕРБАЙДЖАН",
          "АЛБАНИЯ",
          "АЛЖИР",
          "АНГОЛА",
          "АНТАРКТИДА",
          "АРГЕНТИНА",
          "АРМЕНИЯ",
          "БАГАМЫ",
          "БАНГЛАДЕШ",
          "БАХРЕЙН",
          "БЕЛЬГИЯ",
          "БЕНИН",
          "БОЛГАРИЯ",
          "БОТСВАНА",
          "БРАЗИЛИЯ",
          "БРУНЕЙ-ДАРУССАЛАМ",
          "ВЕНГРИЯ",
          "ВЬЕТНАМ",
          "ГАИТИ",
          "ГАЙАНА",
          "ГАНА",
          "ГВАТЕМАЛА",
          "ГВИНЕЯ",
          "ГЕРМАНИЯ",
          "ГИБРАЛТАР",
          "ГОНДУРАС",
          "ГОНКОНГ",
          "ГРЕНЛАНДИЯ",
          "ГРЕЦИЯ",
          "ГРУЗИЯ",
          "ДАНИЯ",
          "ДОМИНИКА",
          "ДОМИНИКАНСКАЯ РЕСПУБЛИКА",
          "ЕГИПЕТ",
          "ЗАПАДНАЯ САХАРА",
          "ЗИМБАБВЕ",
          "ИЗРАИЛЬ",
          "ИНДИЯ",
          "ИНДОНЕЗИЯ",
          "ИОРДАНИЯ",
          "ИРАК",
          "ИРАН, ИСЛАМСКАЯ РЕСПУБЛИКА",
          "ИРЛАНДИЯ",
          "ИСЛАНДИЯ",
          "ИСПАНИЯ",
          "ИТАЛИЯ",
          "ЙЕМЕН",
          "КАБО-ВЕРДЕ",
          "КАЗАХСТАН",
          "КАМБОДЖА",
          "КАМЕРУН",
          "КАНАДА",
          "КАТАР",
          "КЕНИЯ",
          "КИПР",
          "КИРГИЗИЯ",
          "КИРИБАТИ",
          "КИТАЙ",
          "КОЛУМБИЯ",
          "КОНГО, ДЕМОКРАТИЧЕСКАЯ РЕСПУБЛИКА",
          "КОНГО",
          "КОРЕЯ, НАРОДНО-ДЕМОКРАТИЧЕСКАЯ РЕСПУБЛИКА",
          "КОРЕЯ, РЕСПУБЛИКА",
          "КОСТА-РИКА",
          "КУБА",
          "КУВЕЙТ",
          "ЛАТВИЯ",
          "ЛИБЕРИЯ",
          "ЛИВАН",
          "ЛИВИЙСКАЯ АРАБСКАЯ ДЖАМАХИРИЯ",
          "ЛИТВА",
          "ЛЮКСЕМБУРГ",
          "МАВРИКИЙ",
          "МАВРИТАНИЯ",
          "МАКАО",
          "РЕСПУБЛИКА МАКЕДОНИЯ",
          "МАЛАЙЗИЯ",
          "МАЛИ",
          "МАЛЬДИВЫ",
          "МАЛЬТА",
          "МАРОККО",
          "МАРШАЛЛОВЫ ОСТРОВА",
          "МЕКСИКА",
          "МОЗАМБИК",
          "МОЛДОВА, РЕСПУБЛИКА",
          "МОНГОЛИЯ",
          "МЬЯНМА",
          "НАМИБИЯ",
          "НЕПАЛ",
          "НИГЕРИЯ",
          "НИДЕРЛАНДЫ",
          "НОВАЯ ЗЕЛАНДИЯ",
          "НОРВЕГИЯ",
          "ОБЪЕДИНЕННЫЕ АРАБСКИЕ ЭМИРАТЫ",
          "ОМАН",
          "ПАКИСТАН",
          "ПАНАМА",
          "ПАПУА-НОВАЯ ГВИНЕЯ",
          "ПЕРУ",
          "ПОЛЬША",
          "ПОРТУГАЛИЯ",
          "ПУЭРТО-РИКО",
          "РУАНДА",
          "РУМЫНИЯ",
          "САУДОВСКАЯ АРАВИЯ",
          "СЕЙШЕЛЫ",
          "СЕНЕГАЛ",
          "СЕН-МАРТЕН",
          "СЕРБИЯ",
          "СИНГАПУР",
          "СИРИЙСКАЯ АРАБСКАЯ РЕСПУБЛИКА",
          "СЛОВАКИЯ",
          "СЛОВЕНИЯ",
          "СОЕДИНЕННОЕ КОРОЛЕВСТВО",
          "СОЕДИНЕННЫЕ ШТАТЫ",
          "СУДАН",
          "СЬЕРРА-ЛЕОНЕ",
          "ТАДЖИКИСТАН",
          "ТАИЛАНД",
          "ТАЙВАНЬ (КИТАЙ)",
          "ТАНЗАНИЯ, ОБЪЕДИНЕННАЯ РЕСПУБЛИКА",
          "ТОГО",
          "ТУНИС",
          "ТУРКМЕНИЯ",
          "ТУРЦИЯ",
          "УГАНДА",
          "УЗБЕКИСТАН",
          "УКРАИНА",
          "УРУГВАЙ",
          "ФАРЕРСКИЕ ОСТРОВА",
          "ФИЛИППИНЫ",
          "ФИНЛЯНДИЯ",
          "ФРАНЦИЯ",
          "ХОРВАТИЯ",
          "ЦЕНТРАЛЬНО-АФРИКАНСКАЯ РЕСПУБЛИКА",
          "ЧАД",
          "ЧЕРНОГОРИЯ",
          "ЧЕШСКАЯ РЕСПУБЛИКА",
          "ЧИЛИ",
          "ШВЕЙЦАРИЯ",
          "ШВЕЦИЯ",
          "ШРИ-ЛАНКА",
          "ЭКВАДОР",
          "ЭКВАТОРИАЛЬНАЯ ГВИНЕЯ",
          "ЭЛЬ-САЛЬВАДОР",
          "ЭСТОНИЯ",
          "ЭФИОПИЯ",
          "ЮЖНАЯ АФРИКА",
          "ЯПОНИЯ"
         ],
         "type": "choropleth",
         "z": [
          null,
          4,
          145341,
          45,
          1272,
          null,
          null,
          27,
          267371,
          null,
          48,
          9948,
          469,
          null,
          787,
          null,
          242,
          null,
          20,
          114,
          null,
          null,
          40,
          3,
          null,
          710,
          52,
          19,
          null,
          null,
          764,
          461224,
          238,
          null,
          null,
          180635,
          null,
          null,
          22152,
          8637,
          517,
          117,
          904,
          11015,
          18,
          17,
          251,
          489,
          null,
          null,
          1249553,
          null,
          null,
          null,
          13213,
          18,
          128,
          167290,
          null,
          48402,
          33,
          null,
          null,
          null,
          6867,
          null,
          116,
          14,
          33573,
          2,
          123,
          null,
          102763,
          null,
          null,
          null,
          null,
          0,
          229,
          null,
          30956,
          28,
          138,
          null,
          106,
          25,
          4,
          65573,
          158,
          null,
          null,
          52,
          853,
          null,
          10088,
          277181,
          23,
          18,
          21,
          null,
          23,
          46406,
          26,
          null,
          null,
          541,
          1532,
          6,
          37,
          null,
          26639,
          137,
          4829,
          10,
          8,
          37,
          124,
          26,
          17,
          103900,
          3,
          91,
          29,
          46,
          3273,
          1650,
          2161428,
          null,
          126039,
          100535,
          null,
          312,
          61,
          429508,
          317,
          75,
          null,
          null,
          9,
          31,
          null,
          32,
          85,
          44,
          154,
          null,
          null,
          239470,
          3128,
          46,
          5260
         ]
        }
       ],
       "layout": {
        "geo": {
         "scope": "world"
        },
        "mapbox": {
         "style": "open-street-map"
        },
        "margin": {
         "b": 0,
         "l": 10,
         "r": 0,
         "t": 35
        },
        "template": {
         "data": {
          "bar": [
           {
            "error_x": {
             "color": "#2a3f5f"
            },
            "error_y": {
             "color": "#2a3f5f"
            },
            "marker": {
             "line": {
              "color": "#E5ECF6",
              "width": 0.5
             },
             "pattern": {
              "fillmode": "overlay",
              "size": 10,
              "solidity": 0.2
             }
            },
            "type": "bar"
           }
          ],
          "barpolar": [
           {
            "marker": {
             "line": {
              "color": "#E5ECF6",
              "width": 0.5
             },
             "pattern": {
              "fillmode": "overlay",
              "size": 10,
              "solidity": 0.2
             }
            },
            "type": "barpolar"
           }
          ],
          "carpet": [
           {
            "aaxis": {
             "endlinecolor": "#2a3f5f",
             "gridcolor": "white",
             "linecolor": "white",
             "minorgridcolor": "white",
             "startlinecolor": "#2a3f5f"
            },
            "baxis": {
             "endlinecolor": "#2a3f5f",
             "gridcolor": "white",
             "linecolor": "white",
             "minorgridcolor": "white",
             "startlinecolor": "#2a3f5f"
            },
            "type": "carpet"
           }
          ],
          "choropleth": [
           {
            "colorbar": {
             "outlinewidth": 0,
             "ticks": ""
            },
            "type": "choropleth"
           }
          ],
          "contour": [
           {
            "colorbar": {
             "outlinewidth": 0,
             "ticks": ""
            },
            "colorscale": [
             [
              0,
              "#0d0887"
             ],
             [
              0.1111111111111111,
              "#46039f"
             ],
             [
              0.2222222222222222,
              "#7201a8"
             ],
             [
              0.3333333333333333,
              "#9c179e"
             ],
             [
              0.4444444444444444,
              "#bd3786"
             ],
             [
              0.5555555555555556,
              "#d8576b"
             ],
             [
              0.6666666666666666,
              "#ed7953"
             ],
             [
              0.7777777777777778,
              "#fb9f3a"
             ],
             [
              0.8888888888888888,
              "#fdca26"
             ],
             [
              1,
              "#f0f921"
             ]
            ],
            "type": "contour"
           }
          ],
          "contourcarpet": [
           {
            "colorbar": {
             "outlinewidth": 0,
             "ticks": ""
            },
            "type": "contourcarpet"
           }
          ],
          "heatmap": [
           {
            "colorbar": {
             "outlinewidth": 0,
             "ticks": ""
            },
            "colorscale": [
             [
              0,
              "#0d0887"
             ],
             [
              0.1111111111111111,
              "#46039f"
             ],
             [
              0.2222222222222222,
              "#7201a8"
             ],
             [
              0.3333333333333333,
              "#9c179e"
             ],
             [
              0.4444444444444444,
              "#bd3786"
             ],
             [
              0.5555555555555556,
              "#d8576b"
             ],
             [
              0.6666666666666666,
              "#ed7953"
             ],
             [
              0.7777777777777778,
              "#fb9f3a"
             ],
             [
              0.8888888888888888,
              "#fdca26"
             ],
             [
              1,
              "#f0f921"
             ]
            ],
            "type": "heatmap"
           }
          ],
          "heatmapgl": [
           {
            "colorbar": {
             "outlinewidth": 0,
             "ticks": ""
            },
            "colorscale": [
             [
              0,
              "#0d0887"
             ],
             [
              0.1111111111111111,
              "#46039f"
             ],
             [
              0.2222222222222222,
              "#7201a8"
             ],
             [
              0.3333333333333333,
              "#9c179e"
             ],
             [
              0.4444444444444444,
              "#bd3786"
             ],
             [
              0.5555555555555556,
              "#d8576b"
             ],
             [
              0.6666666666666666,
              "#ed7953"
             ],
             [
              0.7777777777777778,
              "#fb9f3a"
             ],
             [
              0.8888888888888888,
              "#fdca26"
             ],
             [
              1,
              "#f0f921"
             ]
            ],
            "type": "heatmapgl"
           }
          ],
          "histogram": [
           {
            "marker": {
             "pattern": {
              "fillmode": "overlay",
              "size": 10,
              "solidity": 0.2
             }
            },
            "type": "histogram"
           }
          ],
          "histogram2d": [
           {
            "colorbar": {
             "outlinewidth": 0,
             "ticks": ""
            },
            "colorscale": [
             [
              0,
              "#0d0887"
             ],
             [
              0.1111111111111111,
              "#46039f"
             ],
             [
              0.2222222222222222,
              "#7201a8"
             ],
             [
              0.3333333333333333,
              "#9c179e"
             ],
             [
              0.4444444444444444,
              "#bd3786"
             ],
             [
              0.5555555555555556,
              "#d8576b"
             ],
             [
              0.6666666666666666,
              "#ed7953"
             ],
             [
              0.7777777777777778,
              "#fb9f3a"
             ],
             [
              0.8888888888888888,
              "#fdca26"
             ],
             [
              1,
              "#f0f921"
             ]
            ],
            "type": "histogram2d"
           }
          ],
          "histogram2dcontour": [
           {
            "colorbar": {
             "outlinewidth": 0,
             "ticks": ""
            },
            "colorscale": [
             [
              0,
              "#0d0887"
             ],
             [
              0.1111111111111111,
              "#46039f"
             ],
             [
              0.2222222222222222,
              "#7201a8"
             ],
             [
              0.3333333333333333,
              "#9c179e"
             ],
             [
              0.4444444444444444,
              "#bd3786"
             ],
             [
              0.5555555555555556,
              "#d8576b"
             ],
             [
              0.6666666666666666,
              "#ed7953"
             ],
             [
              0.7777777777777778,
              "#fb9f3a"
             ],
             [
              0.8888888888888888,
              "#fdca26"
             ],
             [
              1,
              "#f0f921"
             ]
            ],
            "type": "histogram2dcontour"
           }
          ],
          "mesh3d": [
           {
            "colorbar": {
             "outlinewidth": 0,
             "ticks": ""
            },
            "type": "mesh3d"
           }
          ],
          "parcoords": [
           {
            "line": {
             "colorbar": {
              "outlinewidth": 0,
              "ticks": ""
             }
            },
            "type": "parcoords"
           }
          ],
          "pie": [
           {
            "automargin": true,
            "type": "pie"
           }
          ],
          "scatter": [
           {
            "fillpattern": {
             "fillmode": "overlay",
             "size": 10,
             "solidity": 0.2
            },
            "type": "scatter"
           }
          ],
          "scatter3d": [
           {
            "line": {
             "colorbar": {
              "outlinewidth": 0,
              "ticks": ""
             }
            },
            "marker": {
             "colorbar": {
              "outlinewidth": 0,
              "ticks": ""
             }
            },
            "type": "scatter3d"
           }
          ],
          "scattercarpet": [
           {
            "marker": {
             "colorbar": {
              "outlinewidth": 0,
              "ticks": ""
             }
            },
            "type": "scattercarpet"
           }
          ],
          "scattergeo": [
           {
            "marker": {
             "colorbar": {
              "outlinewidth": 0,
              "ticks": ""
             }
            },
            "type": "scattergeo"
           }
          ],
          "scattergl": [
           {
            "marker": {
             "colorbar": {
              "outlinewidth": 0,
              "ticks": ""
             }
            },
            "type": "scattergl"
           }
          ],
          "scattermapbox": [
           {
            "marker": {
             "colorbar": {
              "outlinewidth": 0,
              "ticks": ""
             }
            },
            "type": "scattermapbox"
           }
          ],
          "scatterpolar": [
           {
            "marker": {
             "colorbar": {
              "outlinewidth": 0,
              "ticks": ""
             }
            },
            "type": "scatterpolar"
           }
          ],
          "scatterpolargl": [
           {
            "marker": {
             "colorbar": {
              "outlinewidth": 0,
              "ticks": ""
             }
            },
            "type": "scatterpolargl"
           }
          ],
          "scatterternary": [
           {
            "marker": {
             "colorbar": {
              "outlinewidth": 0,
              "ticks": ""
             }
            },
            "type": "scatterternary"
           }
          ],
          "surface": [
           {
            "colorbar": {
             "outlinewidth": 0,
             "ticks": ""
            },
            "colorscale": [
             [
              0,
              "#0d0887"
             ],
             [
              0.1111111111111111,
              "#46039f"
             ],
             [
              0.2222222222222222,
              "#7201a8"
             ],
             [
              0.3333333333333333,
              "#9c179e"
             ],
             [
              0.4444444444444444,
              "#bd3786"
             ],
             [
              0.5555555555555556,
              "#d8576b"
             ],
             [
              0.6666666666666666,
              "#ed7953"
             ],
             [
              0.7777777777777778,
              "#fb9f3a"
             ],
             [
              0.8888888888888888,
              "#fdca26"
             ],
             [
              1,
              "#f0f921"
             ]
            ],
            "type": "surface"
           }
          ],
          "table": [
           {
            "cells": {
             "fill": {
              "color": "#EBF0F8"
             },
             "line": {
              "color": "white"
             }
            },
            "header": {
             "fill": {
              "color": "#C8D4E3"
             },
             "line": {
              "color": "white"
             }
            },
            "type": "table"
           }
          ]
         },
         "layout": {
          "annotationdefaults": {
           "arrowcolor": "#2a3f5f",
           "arrowhead": 0,
           "arrowwidth": 1
          },
          "autotypenumbers": "strict",
          "coloraxis": {
           "colorbar": {
            "outlinewidth": 0,
            "ticks": ""
           }
          },
          "colorscale": {
           "diverging": [
            [
             0,
             "#8e0152"
            ],
            [
             0.1,
             "#c51b7d"
            ],
            [
             0.2,
             "#de77ae"
            ],
            [
             0.3,
             "#f1b6da"
            ],
            [
             0.4,
             "#fde0ef"
            ],
            [
             0.5,
             "#f7f7f7"
            ],
            [
             0.6,
             "#e6f5d0"
            ],
            [
             0.7,
             "#b8e186"
            ],
            [
             0.8,
             "#7fbc41"
            ],
            [
             0.9,
             "#4d9221"
            ],
            [
             1,
             "#276419"
            ]
           ],
           "sequential": [
            [
             0,
             "#0d0887"
            ],
            [
             0.1111111111111111,
             "#46039f"
            ],
            [
             0.2222222222222222,
             "#7201a8"
            ],
            [
             0.3333333333333333,
             "#9c179e"
            ],
            [
             0.4444444444444444,
             "#bd3786"
            ],
            [
             0.5555555555555556,
             "#d8576b"
            ],
            [
             0.6666666666666666,
             "#ed7953"
            ],
            [
             0.7777777777777778,
             "#fb9f3a"
            ],
            [
             0.8888888888888888,
             "#fdca26"
            ],
            [
             1,
             "#f0f921"
            ]
           ],
           "sequentialminus": [
            [
             0,
             "#0d0887"
            ],
            [
             0.1111111111111111,
             "#46039f"
            ],
            [
             0.2222222222222222,
             "#7201a8"
            ],
            [
             0.3333333333333333,
             "#9c179e"
            ],
            [
             0.4444444444444444,
             "#bd3786"
            ],
            [
             0.5555555555555556,
             "#d8576b"
            ],
            [
             0.6666666666666666,
             "#ed7953"
            ],
            [
             0.7777777777777778,
             "#fb9f3a"
            ],
            [
             0.8888888888888888,
             "#fdca26"
            ],
            [
             1,
             "#f0f921"
            ]
           ]
          },
          "colorway": [
           "#636efa",
           "#EF553B",
           "#00cc96",
           "#ab63fa",
           "#FFA15A",
           "#19d3f3",
           "#FF6692",
           "#B6E880",
           "#FF97FF",
           "#FECB52"
          ],
          "font": {
           "color": "#2a3f5f"
          },
          "geo": {
           "bgcolor": "white",
           "lakecolor": "white",
           "landcolor": "#E5ECF6",
           "showlakes": true,
           "showland": true,
           "subunitcolor": "white"
          },
          "hoverlabel": {
           "align": "left"
          },
          "hovermode": "closest",
          "mapbox": {
           "style": "light"
          },
          "paper_bgcolor": "white",
          "plot_bgcolor": "#E5ECF6",
          "polar": {
           "angularaxis": {
            "gridcolor": "white",
            "linecolor": "white",
            "ticks": ""
           },
           "bgcolor": "#E5ECF6",
           "radialaxis": {
            "gridcolor": "white",
            "linecolor": "white",
            "ticks": ""
           }
          },
          "scene": {
           "xaxis": {
            "backgroundcolor": "#E5ECF6",
            "gridcolor": "white",
            "gridwidth": 2,
            "linecolor": "white",
            "showbackground": true,
            "ticks": "",
            "zerolinecolor": "white"
           },
           "yaxis": {
            "backgroundcolor": "#E5ECF6",
            "gridcolor": "white",
            "gridwidth": 2,
            "linecolor": "white",
            "showbackground": true,
            "ticks": "",
            "zerolinecolor": "white"
           },
           "zaxis": {
            "backgroundcolor": "#E5ECF6",
            "gridcolor": "white",
            "gridwidth": 2,
            "linecolor": "white",
            "showbackground": true,
            "ticks": "",
            "zerolinecolor": "white"
           }
          },
          "shapedefaults": {
           "line": {
            "color": "#2a3f5f"
           }
          },
          "ternary": {
           "aaxis": {
            "gridcolor": "white",
            "linecolor": "white",
            "ticks": ""
           },
           "baxis": {
            "gridcolor": "white",
            "linecolor": "white",
            "ticks": ""
           },
           "bgcolor": "#E5ECF6",
           "caxis": {
            "gridcolor": "white",
            "linecolor": "white",
            "ticks": ""
           }
          },
          "title": {
           "x": 0.05
          },
          "xaxis": {
           "automargin": true,
           "gridcolor": "white",
           "linecolor": "white",
           "ticks": "",
           "title": {
            "standoff": 15
           },
           "zerolinecolor": "white",
           "zerolinewidth": 2
          },
          "yaxis": {
           "automargin": true,
           "gridcolor": "white",
           "linecolor": "white",
           "ticks": "",
           "title": {
            "standoff": 15
           },
           "zerolinecolor": "white",
           "zerolinewidth": 2
          }
         }
        },
        "title": {
         "text": "Выезд граждан России (человек), 3 кв. 2022"
        }
       }
      }
     },
     "metadata": {},
     "output_type": "display_data"
    }
   ],
   "source": [
    "import plotly.graph_objects as go\n",
    "import pandas as pd\n",
    "\n",
    "#df = pd.read_csv('https://raw.githubusercontent.com/plotly/datasets/master/2014_world_gdp_with_codes.csv')\n",
    "\n",
    "fig = go.Figure(data=go.Choropleth(\n",
    "    locations = df['alpha3'],\n",
    "    z = df['3_2022'],\n",
    "    text = df['country'],\n",
    "    marker_line_width=0.5\n",
    "))\n",
    "\n",
    "fig.update_layout(mapbox_style = 'open-street-map')\n",
    "fig.update_layout(\n",
    "    title_text = 'Выезд граждан России (человек), 3 кв. 2022',\n",
    "    geo_scope='world',\n",
    ")\n",
    "fig.update_layout(margin={\"r\":0,\"t\":35,\"l\":10,\"b\":0})\n",
    "fig.show()\n"
   ]
  }
 ],
 "metadata": {
  "kernelspec": {
   "display_name": "Python 3",
   "language": "python",
   "name": "python3"
  },
  "language_info": {
   "codemirror_mode": {
    "name": "ipython",
    "version": 3
   },
   "file_extension": ".py",
   "mimetype": "text/x-python",
   "name": "python",
   "nbconvert_exporter": "python",
   "pygments_lexer": "ipython3",
   "version": "3.8.6"
  },
  "orig_nbformat": 4,
  "vscode": {
   "interpreter": {
    "hash": "56f6ae7d6d59590fbed43caea99ad29917dd6762612e50bc71702a90353251d2"
   }
  }
 },
 "nbformat": 4,
 "nbformat_minor": 2
}
