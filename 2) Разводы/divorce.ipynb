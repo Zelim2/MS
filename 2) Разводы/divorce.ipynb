{
 "cells": [
  {
   "cell_type": "code",
   "execution_count": null,
   "metadata": {},
   "outputs": [],
   "source": [
    "#pip install folium"
   ]
  },
  {
   "cell_type": "code",
   "execution_count": null,
   "metadata": {
    "id": "Cekcy3pwvqMi"
   },
   "outputs": [],
   "source": [
    "#!pip install folium\n",
    "import folium\n",
    "\n",
    "# Import folium MarkerCluster plugin\n",
    "from folium.plugins import MarkerCluster\n",
    "# Import folium MousePosition plugin\n",
    "from folium.plugins import MousePosition\n",
    "# Import folium DivIcon plugin\n",
    "from folium.features import DivIcon"
   ]
  },
  {
   "cell_type": "code",
   "execution_count": null,
   "metadata": {},
   "outputs": [],
   "source": [
    "#pip install geopandas"
   ]
  },
  {
   "cell_type": "code",
   "execution_count": null,
   "metadata": {
    "id": "Gq2RhQ06xXXI"
   },
   "outputs": [],
   "source": [
    "#!pip install geopandas\n",
    "import geopandas as gpd\n",
    "import pandas as pd\n",
    "import numpy as np\n",
    "from urllib import request\n",
    "import json"
   ]
  },
  {
   "cell_type": "code",
   "execution_count": null,
   "metadata": {},
   "outputs": [],
   "source": [
    "url1 = \"https://raw.githubusercontent.com/tttdddnet/Python-Jupyter-Geo/88f57d23e1a7fdc283eec9e255fd0a2dc3103e12/geo_ru.json\"\n",
    "with request.urlopen(url1) as f:\n",
    "    geo= json.load(f)\n",
    "df1 = gpd.read_file(url1)\n",
    "df1.rename(columns = {'name':'region'}, inplace = True)"
   ]
  },
  {
   "cell_type": "code",
   "execution_count": null,
   "metadata": {},
   "outputs": [],
   "source": [
    "df1"
   ]
  },
  {
   "cell_type": "code",
   "execution_count": null,
   "metadata": {},
   "outputs": [],
   "source": [
    "seva = df1[df1['region'] == \"Sevastopol'\"]\n",
    "seva= seva.drop(['id','Subject_translit','Subject_en'], axis = 1)\n",
    "seva"
   ]
  },
  {
   "cell_type": "code",
   "execution_count": null,
   "metadata": {},
   "outputs": [],
   "source": [
    "crimea = df1[df1['region'] == 'Crimea']\n",
    "crimea = crimea.drop(['id','Subject_translit','Subject_en'], axis = 1)\n",
    "crimea"
   ]
  },
  {
   "cell_type": "code",
   "execution_count": null,
   "metadata": {
    "colab": {
     "base_uri": "https://localhost:8080/",
     "height": 424
    },
    "id": "GQgPBWvvyItV",
    "outputId": "6e967a25-a51c-40c9-a3b0-16b0d92b9413",
    "scrolled": false
   },
   "outputs": [],
   "source": [
    "url = \"https://raw.githubusercontent.com/codeforamerica/click_that_hood/master/public/data/russia.geojson\"\n",
    "with request.urlopen(url) as f:\n",
    "    geo= json.load(f)\n",
    "df = gpd.read_file(url)\n",
    "df.rename(columns = {'name':'region'}, inplace = True)"
   ]
  },
  {
   "cell_type": "code",
   "execution_count": null,
   "metadata": {
    "scrolled": true
   },
   "outputs": [],
   "source": [
    "df = df.drop(['cartodb_id', 'created_at','updated_at','name_latin'], axis = 1)\n",
    "df"
   ]
  },
  {
   "cell_type": "code",
   "execution_count": null,
   "metadata": {
    "scrolled": true
   },
   "outputs": [],
   "source": [
    "df = pd.concat([df, crimea])\n",
    "df = pd.concat([df, seva])\n",
    "df['region'] = df['region'].replace({'Crimea':\"Республика Крым\"})\n",
    "df['region'] = df['region'].replace({\"Sevastopol'\":\"г. Севастополь\"})\n",
    "df"
   ]
  },
  {
   "cell_type": "code",
   "execution_count": null,
   "metadata": {
    "colab": {
     "base_uri": "https://localhost:8080/",
     "height": 424
    },
    "id": "tZVASpdHxe3Z",
    "outputId": "dfe0cb99-6af9-49f3-b98a-acf18db56bb6",
    "scrolled": true
   },
   "outputs": [],
   "source": [
    "df3 = pd.read_excel(\"divorce.xls\")\n",
    "df3['region'] = df3['region'].str.strip()\n",
    "df3['region'] = df3['region'].replace({'Тюменская обл.без данных по Ханты-Мансийскому и Ямало-Ненецкому авт. окр.':'Тюменская область без автономий'})\n",
    "df3['region'] = df3['region'].replace({'Ханты-Мансийский автономный округ - Югра (Тюменская область)': 'Ханты-Мансийский авт. округ – Югра'})\n",
    "df3['region'] = df3['region'].replace({'Ямало-Ненецкий автономный округ (Тюменская область)': 'Ямало-Ненецкий автономный округ'})\n",
    "df3['region'] = df3['region'].replace({'Архангельская обл. без данных по Ненецкому авт. окр.': 'Архангельская область без автономии'})\n",
    "df3['region'] = df3['region'].replace({\"Ненецкий автономный округ (Архангельская область)\":\"Ненецкий автономный округ\"})\n",
    "df3"
   ]
  },
  {
   "cell_type": "code",
   "execution_count": null,
   "metadata": {
    "scrolled": true
   },
   "outputs": [],
   "source": [
    "#df['region'].to_excel(\"outp.xlsx\")\n",
    "reg1 = {\"Республика Бурятия\":\"Бурятия\",\n",
    "\"Город Москва столица Российской Федерации город федерального значения\":\"Москва\",\n",
    "\"г. Москва\":\"Москва\",\n",
    "\"Город Санкт-Петербург город федерального значения\":\"Санкт-Петербург\",\n",
    "\"г. Санкт-Петербург\":\"Санкт-Петербург\",\n",
    "\"Республика Тыва\":\"Тыва\",\n",
    "\"Кабардино-Балкарская Республика\":\"Кабардино-Балкарская республика\",\n",
    "#Чукотский автономный округ\n",
    "\"Республика Адыгея\":\"Адыгея\",\n",
    "\"Республика Татарстан\":\"Татарстан\",\n",
    "\"Республика Марий Эл\":\"Марий Эл\",\n",
    "\"Чувашская Республика\":\"Чувашия\",\n",
    "\"Республика Северная Осетия - Алания\":\"Северная Осетия - Алания\",\n",
    "\"Республика Северная Осетия-Алания\":\"Северная Осетия - Алания\",\n",
    "\"Республика Алтай\":\"Алтай\",\n",
    "\"Республика Дагестан\":\"Дагестан\",\n",
    "\"Кемеровская область - Кузбасс\":\"Кемеровская область\",\n",
    "\"Республика Ингушетия\":\"Ингушетия\",\n",
    "\"Республика Башкортостан\": \"Башкортостан\",\n",
    "\"Удмуртская Республика\" :\"Удмуртская республика\",\n",
    "\"Республика Адыгея (Адыгея)\":\"Адыгея\",\n",
    "\"Карачаево-Черкесская Республика\":\"Карачаево-Черкесская республика\",\n",
    "\"Республика Северная Осетия – Алания\":\"Северная Осетия - Алания\",\n",
    "\"Чеченская Республика\":\"Чеченская республика\",\n",
    "\"Чувашская Республика - Чувашия\":\"Чувашия\",\n",
    "\"Республика Татарстан (Татарстан)\":\"Татарстан\",\n",
    "\"Тюменская область без автономий\":\"Тюменская область\",\n",
    "\"Ханты-Мансийский авт. округ – Югра\":\"Ханты-Мансийский автономный округ - Югра\",\n",
    "\"Архангельская область без автономии\":\"Архангельская область\",\n",
    "\"Город федерального значения Севастополь\":\"г. Севастополь\"\n",
    "       }\n",
    "df3['region'] = df3['region'].replace(reg1)\n",
    "df3[df3['region'] == 'Северная Осетия - Алания']"
   ]
  },
  {
   "cell_type": "code",
   "execution_count": null,
   "metadata": {
    "colab": {
     "base_uri": "https://localhost:8080/",
     "height": 528
    },
    "id": "dStzgVXExuoX",
    "outputId": "778054e4-7c1c-4113-8d7e-32495d9aa588",
    "scrolled": true
   },
   "outputs": [],
   "source": [
    "# df[\"lon\"] = df[\"geometry\"].centroid.x\n",
    "# df[\"lat\"] = df[\"geometry\"].centroid.y\n",
    "#df['value'] = np.random.randint(5,50,36)\n",
    "#df\n",
    "df3 = df3.merge(df, on='region')\n",
    "df3"
   ]
  },
  {
   "cell_type": "code",
   "execution_count": null,
   "metadata": {
    "id": "MAzEccl5vaOq"
   },
   "outputs": [],
   "source": [
    "russia_map = folium.Map(\n",
    "    location = [64.6863136, 97.7453061],    # широта и долгота России\n",
    "    zoom_start = 4\n",
    ")\n",
    "\n",
    "#display (russia_map)"
   ]
  },
  {
   "cell_type": "code",
   "execution_count": null,
   "metadata": {
    "colab": {
     "base_uri": "https://localhost:8080/",
     "height": 1000
    },
    "id": "gMr3xVQ-wZNF",
    "outputId": "b35e523e-83dc-44bc-ba95-f4c1a4060f08",
    "scrolled": false
   },
   "outputs": [],
   "source": [
    "map = folium.Map([68 ,103],     \n",
    "                        zoom_start=3,\n",
    "                        width=\"%100\",\n",
    "                        height=\"%100\")\n",
    "folium.Choropleth(\n",
    "    geo_data=df,\n",
    "    data=df3,\n",
    "    name = 'Разводы',\n",
    "    columns=['region', 'k'],   \n",
    "    legend_name='Коэффициент разводимости на 1000 человек',\n",
    "    key_on='feature.properties.region',\n",
    "    fill_color=\"PuBu\",\n",
    "    fill_opacity=0.8,\n",
    "    line_opacity=0.5,\n",
    "    ).add_to(map)\n",
    "folium.LayerControl().add_to(map)\n",
    "\n",
    "tooltip = \"Click Here For More Info\"\n",
    "# координаты середины канала - 66°25' с. ш. 94°15' в. д\n",
    "marker = folium.Marker(\n",
    "    location=[66.25, 91.15],\n",
    "    popup=\"<stong><a href='https://t.me/maps_stat'>tg: https://t.me/maps_stat</a><br /><a href='https://vk.com/maps_stat'>vk: https://vk.com/maps_stat</a></stong>\",\n",
    "    icon=folium.DivIcon(html=f\"\"\"\n",
    "      <div style=\"color:#878787;background:#878787:90px;text-align:center;\"><h5><u>@maps_stat</u><h5></div>\n",
    "    \"\"\"),\n",
    "    fill_opacity=0.5\n",
    "    )\n",
    "marker.add_to(map)\n",
    "map"
   ]
  },
  {
   "cell_type": "code",
   "execution_count": null,
   "metadata": {},
   "outputs": [],
   "source": [
    "map.save(\"divorce.html\")"
   ]
  },
  {
   "cell_type": "code",
   "execution_count": null,
   "metadata": {
    "colab": {
     "base_uri": "https://localhost:8080/"
    },
    "id": "NS8JByY53cLi",
    "outputId": "c18b5f9c-fe29-483e-e004-fa95a31241f1"
   },
   "outputs": [],
   "source": [
    "# про Чукотку статья https://habr.com/ru/post/459902/"
   ]
  },
  {
   "cell_type": "code",
   "execution_count": null,
   "metadata": {},
   "outputs": [],
   "source": []
  }
 ],
 "metadata": {
  "colab": {
   "provenance": []
  },
  "kernelspec": {
   "display_name": "Python 3 (ipykernel)",
   "language": "python",
   "name": "python3"
  },
  "language_info": {
   "codemirror_mode": {
    "name": "ipython",
    "version": 3
   },
   "file_extension": ".py",
   "mimetype": "text/x-python",
   "name": "python",
   "nbconvert_exporter": "python",
   "pygments_lexer": "ipython3",
   "version": "3.9.7"
  },
  "vscode": {
   "interpreter": {
    "hash": "56f6ae7d6d59590fbed43caea99ad29917dd6762612e50bc71702a90353251d2"
   }
  }
 },
 "nbformat": 4,
 "nbformat_minor": 1
}
