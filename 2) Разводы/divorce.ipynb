{
 "cells": [
  {
   "cell_type": "code",
   "execution_count": null,
   "metadata": {},
   "outputs": [],
   "source": [
    "#!pip install pandas\n",
    "#!pip install geopandas\n",
    "#!pip install folium"
   ]
  },
  {
   "cell_type": "code",
   "execution_count": null,
   "metadata": {},
   "outputs": [],
   "source": [
    "import os\n",
    "import json\n",
    "from urllib import request\n",
    "\n",
    "import pandas as pd\n",
    "import geopandas as gpd\n",
    "\n",
    "import folium\n",
    "# Import folium MarkerCluster plugin\n",
    "from folium.plugins import MarkerCluster\n",
    "# Import folium MousePosition plugin\n",
    "from folium.plugins import MousePosition\n",
    "# Import folium DivIcon plugin\n",
    "from folium.features import DivIcon"
   ]
  },
  {
   "cell_type": "code",
   "execution_count": null,
   "metadata": {},
   "outputs": [],
   "source": [
    "path = os.getcwd()\n",
    "os.chdir(\"../\")\n",
    "# импорт функции rename_subj для приведения всех названий регионов к единому стандарту\n",
    "from Utils.subj_rename import rename_subj\n",
    "# импорт функции, сохраняющей карту в хорошем качестве в png формат\n",
    "from Utils.save_map import map_to_png\n",
    "os.chdir(path.split(\"\\\\\")[-1])"
   ]
  },
  {
   "cell_type": "markdown",
   "metadata": {},
   "source": [
    "# Обработка данных"
   ]
  },
  {
   "cell_type": "code",
   "execution_count": null,
   "metadata": {},
   "outputs": [],
   "source": [
    "# импорт словаря переименований регионов для унифицирования их названия в используемых df\n",
    "with open(\"../Utils/subj_rename.json\", encoding=\"utf-8\") as file:\n",
    "    subj_rename_data = json.load(file)"
   ]
  },
  {
   "cell_type": "code",
   "execution_count": null,
   "metadata": {},
   "outputs": [],
   "source": [
    "df_divorce = pd.read_excel(\"divorce.xls\")\n",
    "df_divorce[\"region\"] = df_divorce[\"region\"].str.strip()\n",
    "\n",
    "# приведение названий регионов к единому стандарту для корректного отображения на карте\n",
    "df_divorce = rename_subj(\n",
    "    df_divorce,\n",
    "    \"region\",\n",
    "    subj_rename_data\n",
    ")\n",
    "display(df_divorce.head())\n",
    "df_divorce.shape"
   ]
  },
  {
   "cell_type": "code",
   "execution_count": null,
   "metadata": {},
   "outputs": [],
   "source": [
    "df_regions = gpd.read_file(\"../Utils/geo_data.json\").rename(columns={\"name\": \"region\"})\n",
    "\n",
    "# приведение названий регионов к единому стандарту для корректного отображения на карте\n",
    "df_regions = rename_subj(\n",
    "    df_regions,\n",
    "    \"region\",\n",
    "    subj_rename_data\n",
    ")\n",
    "display(df_regions.head())\n",
    "df_regions.shape"
   ]
  },
  {
   "cell_type": "code",
   "execution_count": null,
   "metadata": {},
   "outputs": [],
   "source": [
    "# Соединение датафреймов для отсеивания лишних полей по столбцу region\n",
    "df_show = df_divorce.merge(df_regions, on=\"region\", how=\"right\")\n",
    "display(df_show.head())\n",
    "df_show.shape"
   ]
  },
  {
   "cell_type": "code",
   "execution_count": null,
   "metadata": {},
   "outputs": [],
   "source": [
    "df_show[df_show.k.isna()]"
   ]
  },
  {
   "cell_type": "markdown",
   "metadata": {},
   "source": [
    "# Визуализация"
   ]
  },
  {
   "cell_type": "code",
   "execution_count": null,
   "metadata": {
    "colab": {
     "base_uri": "https://localhost:8080/",
     "height": 1000
    },
    "id": "gMr3xVQ-wZNF",
    "outputId": "b35e523e-83dc-44bc-ba95-f4c1a4060f08",
    "scrolled": false
   },
   "outputs": [],
   "source": [
    "# [64.6863136, 97.7453061] # широта и долгота России\n",
    "Map = folium.Map(\n",
    "    [69, 96],\n",
    "    zoom_start=3.5,\n",
    "    width=\"%100\",\n",
    "    height=\"%100\"\n",
    ")\n",
    "\n",
    "folium.Choropleth(\n",
    "    geo_data=df_regions,\n",
    "    data=df_show,\n",
    "    name='Разводы',\n",
    "    columns=['region', 'k'],   \n",
    "    legend_name='Коэффициент разводимости на 1000 человек',\n",
    "    key_on='feature.properties.region',\n",
    "    fill_color=\"PuBu\",\n",
    "    fill_opacity=0.8,\n",
    "    line_opacity=0.5,\n",
    ").add_to(Map)\n",
    "folium.LayerControl().add_to(Map)\n",
    "\n",
    "tooltip = \"Click Here For More Info\"\n",
    "# координаты середины канала - 66°25' с. ш. 94°15' в. д.\n",
    "marker = folium.Marker(\n",
    "    location=[66.25, 91.15],\n",
    "    popup=\"\"\"\n",
    "        <stong>\n",
    "            <a href='https://t.me/maps_stat'>tg: https://t.me/maps_stat</a><br />\n",
    "            <a href='https://vk.com/maps_stat'>vk: https://vk.com/maps_stat</a>\n",
    "        </stong>\n",
    "    \"\"\",\n",
    "    icon=folium.DivIcon(\n",
    "        html=\"\"\"\n",
    "            <div style=\"color:#878787;background:#878787:90px;text-align:center;\"><h5><u>@maps_stat</u><h5></div>\n",
    "        \"\"\"\n",
    "    ),\n",
    "    fill_opacity=0.5\n",
    ")\n",
    "marker.add_to(Map)\n",
    "Map"
   ]
  },
  {
   "cell_type": "code",
   "execution_count": null,
   "metadata": {
    "colab": {
     "base_uri": "https://localhost:8080/"
    },
    "id": "NS8JByY53cLi",
    "outputId": "c18b5f9c-fe29-483e-e004-fa95a31241f1"
   },
   "outputs": [],
   "source": []
  },
  {
   "cell_type": "markdown",
   "metadata": {},
   "source": [
    "# Сохранение карты"
   ]
  },
  {
   "cell_type": "code",
   "execution_count": null,
   "metadata": {},
   "outputs": [],
   "source": [
    "#!pip install pillow\n",
    "#!pip install selenium"
   ]
  },
  {
   "cell_type": "code",
   "execution_count": null,
   "metadata": {},
   "outputs": [],
   "source": [
    "# в html-формат\n",
    "Map.save(\"divorce.html\")"
   ]
  },
  {
   "cell_type": "code",
   "execution_count": null,
   "metadata": {},
   "outputs": [],
   "source": [
    "# загрузка конфига\n",
    "# нужен для корректной работы функции сохранения карты в виде изображения\n",
    "with open(\"../config.json\") as file:\n",
    "    config = json.load(file)"
   ]
  },
  {
   "cell_type": "code",
   "execution_count": null,
   "metadata": {},
   "outputs": [],
   "source": [
    "%%time\n",
    "map_to_png(Map, config)"
   ]
  },
  {
   "cell_type": "code",
   "execution_count": null,
   "metadata": {},
   "outputs": [],
   "source": []
  }
 ],
 "metadata": {
  "colab": {
   "provenance": []
  },
  "kernelspec": {
   "display_name": "Python 3 (ipykernel)",
   "language": "python",
   "name": "python3"
  },
  "language_info": {
   "codemirror_mode": {
    "name": "ipython",
    "version": 3
   },
   "file_extension": ".py",
   "mimetype": "text/x-python",
   "name": "python",
   "nbconvert_exporter": "python",
   "pygments_lexer": "ipython3",
   "version": "3.9.7"
  },
  "vscode": {
   "interpreter": {
    "hash": "56f6ae7d6d59590fbed43caea99ad29917dd6762612e50bc71702a90353251d2"
   }
  }
 },
 "nbformat": 4,
 "nbformat_minor": 1
}
