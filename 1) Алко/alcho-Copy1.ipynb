{
 "cells": [
  {
   "cell_type": "raw",
   "metadata": {},
   "source": [
    "Алкогольная продукция (без пива, напитков, изготовляемых на основе пива, сидра, пуаре и медовухи) - всего\n",
    "Розничная продажа алкогольной продукции в натуральном выражении\n",
    "По данным Федеральная служба\n",
    "по регулированию алкогольного рынка"
   ]
  },
  {
   "cell_type": "code",
   "execution_count": 1,
   "metadata": {},
   "outputs": [],
   "source": [
    "#!pip install pandas\n",
    "#!pip install geopandas\n",
    "#!pip install folium"
   ]
  },
  {
   "cell_type": "code",
   "execution_count": 2,
   "metadata": {
    "id": "Cekcy3pwvqMi"
   },
   "outputs": [],
   "source": [
    "import os\n",
    "import json\n",
    "from urllib import request\n",
    "\n",
    "import pandas as pd\n",
    "import geopandas as gpd\n",
    "\n",
    "import folium\n",
    "# Import folium MarkerCluster plugin\n",
    "from folium.plugins import MarkerCluster\n",
    "# Import folium MousePosition plugin\n",
    "from folium.plugins import MousePosition\n",
    "# Import folium DivIcon plugin\n",
    "from folium.features import DivIcon"
   ]
  },
  {
   "cell_type": "code",
   "execution_count": 3,
   "metadata": {},
   "outputs": [],
   "source": [
    "path = os.getcwd()\n",
    "os.chdir(\"../\")\n",
    "# импорт функции rename_subj для приведения всех названий регионов к единому стандарту\n",
    "from Utils.subj_rename import rename_subj\n",
    "# импорт функции, сохраняющей карту в хорошем качестве в png формат\n",
    "from Utils.save_map import map_to_png\n",
    "os.chdir(path.split(\"\\\\\")[-1])"
   ]
  },
  {
   "cell_type": "markdown",
   "metadata": {},
   "source": [
    "# Обработка данных"
   ]
  },
  {
   "cell_type": "code",
   "execution_count": 4,
   "metadata": {},
   "outputs": [],
   "source": [
    "# импорт словаря переименований регионов для унифицирования их названия в используемых df\n",
    "with open(\"../Utils/subj_rename.json\", encoding=\"utf-8\") as file:\n",
    "    subj_rename_data = json.load(file)"
   ]
  },
  {
   "cell_type": "code",
   "execution_count": 5,
   "metadata": {},
   "outputs": [
    {
     "data": {
      "text/html": [
       "<div>\n",
       "<style scoped>\n",
       "    .dataframe tbody tr th:only-of-type {\n",
       "        vertical-align: middle;\n",
       "    }\n",
       "\n",
       "    .dataframe tbody tr th {\n",
       "        vertical-align: top;\n",
       "    }\n",
       "\n",
       "    .dataframe thead th {\n",
       "        text-align: right;\n",
       "    }\n",
       "</style>\n",
       "<table border=\"1\" class=\"dataframe\">\n",
       "  <thead>\n",
       "    <tr style=\"text-align: right;\">\n",
       "      <th></th>\n",
       "      <th>region</th>\n",
       "      <th>geometry</th>\n",
       "    </tr>\n",
       "  </thead>\n",
       "  <tbody>\n",
       "    <tr>\n",
       "      <th>0</th>\n",
       "      <td>Бурятия</td>\n",
       "      <td>POLYGON ((99.23057 52.96319, 99.24053 52.98642...</td>\n",
       "    </tr>\n",
       "    <tr>\n",
       "      <th>1</th>\n",
       "      <td>Карачаево-Черкесская республика</td>\n",
       "      <td>POLYGON ((41.73682 44.47313, 41.79265 44.47052...</td>\n",
       "    </tr>\n",
       "    <tr>\n",
       "      <th>2</th>\n",
       "      <td>Сахалинская область</td>\n",
       "      <td>MULTIPOLYGON (((145.98748 43.36928, 146.01625 ...</td>\n",
       "    </tr>\n",
       "    <tr>\n",
       "      <th>3</th>\n",
       "      <td>Воронежская область</td>\n",
       "      <td>POLYGON ((38.29261 51.96594, 38.32064 51.98361...</td>\n",
       "    </tr>\n",
       "    <tr>\n",
       "      <th>4</th>\n",
       "      <td>Томская область</td>\n",
       "      <td>POLYGON ((75.10824 58.57625, 75.19930 58.61868...</td>\n",
       "    </tr>\n",
       "  </tbody>\n",
       "</table>\n",
       "</div>"
      ],
      "text/plain": [
       "                            region  \\\n",
       "0                          Бурятия   \n",
       "1  Карачаево-Черкесская республика   \n",
       "2              Сахалинская область   \n",
       "3              Воронежская область   \n",
       "4                  Томская область   \n",
       "\n",
       "                                            geometry  \n",
       "0  POLYGON ((99.23057 52.96319, 99.24053 52.98642...  \n",
       "1  POLYGON ((41.73682 44.47313, 41.79265 44.47052...  \n",
       "2  MULTIPOLYGON (((145.98748 43.36928, 146.01625 ...  \n",
       "3  POLYGON ((38.29261 51.96594, 38.32064 51.98361...  \n",
       "4  POLYGON ((75.10824 58.57625, 75.19930 58.61868...  "
      ]
     },
     "metadata": {},
     "output_type": "display_data"
    },
    {
     "data": {
      "text/plain": [
       "(85, 2)"
      ]
     },
     "execution_count": 5,
     "metadata": {},
     "output_type": "execute_result"
    }
   ],
   "source": [
    "df_regions = gpd.read_file(\"../Utils/geo_data.json\").rename(columns={\"name\": \"region\"})\n",
    "\n",
    "# приведение названий регионов к единому стандарту для корректного отображения на карте\n",
    "df_regions = rename_subj(\n",
    "    df_regions,\n",
    "    \"region\",\n",
    "    subj_rename_data\n",
    ")\n",
    "display(df_regions.head())\n",
    "df_regions.shape"
   ]
  },
  {
   "cell_type": "code",
   "execution_count": 6,
   "metadata": {},
   "outputs": [
    {
     "data": {
      "text/html": [
       "<div>\n",
       "<style scoped>\n",
       "    .dataframe tbody tr th:only-of-type {\n",
       "        vertical-align: middle;\n",
       "    }\n",
       "\n",
       "    .dataframe tbody tr th {\n",
       "        vertical-align: top;\n",
       "    }\n",
       "\n",
       "    .dataframe thead th {\n",
       "        text-align: right;\n",
       "    }\n",
       "</style>\n",
       "<table border=\"1\" class=\"dataframe\">\n",
       "  <thead>\n",
       "    <tr style=\"text-align: right;\">\n",
       "      <th></th>\n",
       "      <th>region</th>\n",
       "      <th>Unnamed: 1</th>\n",
       "      <th>alcho</th>\n",
       "    </tr>\n",
       "  </thead>\n",
       "  <tbody>\n",
       "    <tr>\n",
       "      <th>0</th>\n",
       "      <td>Российская Федерация</td>\n",
       "      <td>тысяча декалитров</td>\n",
       "      <td>53416.1705</td>\n",
       "    </tr>\n",
       "    <tr>\n",
       "      <th>1</th>\n",
       "      <td>Центральный федеральный округ</td>\n",
       "      <td>тысяча декалитров</td>\n",
       "      <td>17093.6965</td>\n",
       "    </tr>\n",
       "    <tr>\n",
       "      <th>2</th>\n",
       "      <td>Белгородская область</td>\n",
       "      <td>тысяча декалитров</td>\n",
       "      <td>352.0230</td>\n",
       "    </tr>\n",
       "    <tr>\n",
       "      <th>3</th>\n",
       "      <td>Брянская область</td>\n",
       "      <td>тысяча декалитров</td>\n",
       "      <td>389.0950</td>\n",
       "    </tr>\n",
       "    <tr>\n",
       "      <th>4</th>\n",
       "      <td>Владимирская область</td>\n",
       "      <td>тысяча декалитров</td>\n",
       "      <td>634.9605</td>\n",
       "    </tr>\n",
       "  </tbody>\n",
       "</table>\n",
       "</div>"
      ],
      "text/plain": [
       "                          region         Unnamed: 1       alcho\n",
       "0           Российская Федерация  тысяча декалитров  53416.1705\n",
       "1  Центральный федеральный округ  тысяча декалитров  17093.6965\n",
       "2           Белгородская область  тысяча декалитров    352.0230\n",
       "3               Брянская область  тысяча декалитров    389.0950\n",
       "4           Владимирская область  тысяча декалитров    634.9605"
      ]
     },
     "metadata": {},
     "output_type": "display_data"
    },
    {
     "data": {
      "text/plain": [
       "(94, 3)"
      ]
     },
     "metadata": {},
     "output_type": "display_data"
    }
   ],
   "source": [
    "df3 = pd.read_excel(\"alcho.xls\")\n",
    "df3['region'] = df3['region'].str.strip()\n",
    "df_alcho = rename_subj(\n",
    "    df3,\n",
    "    \"region\",\n",
    "    subj_rename_data\n",
    ")\n",
    "display(df_alcho.head())\n",
    "display(df_alcho.shape)"
   ]
  },
  {
   "cell_type": "code",
   "execution_count": null,
   "metadata": {},
   "outputs": [],
   "source": []
  },
  {
   "cell_type": "code",
   "execution_count": null,
   "metadata": {},
   "outputs": [],
   "source": []
  },
  {
   "cell_type": "code",
   "execution_count": 7,
   "metadata": {},
   "outputs": [
    {
     "data": {
      "text/html": [
       "<div>\n",
       "<style scoped>\n",
       "    .dataframe tbody tr th:only-of-type {\n",
       "        vertical-align: middle;\n",
       "    }\n",
       "\n",
       "    .dataframe tbody tr th {\n",
       "        vertical-align: top;\n",
       "    }\n",
       "\n",
       "    .dataframe thead th {\n",
       "        text-align: right;\n",
       "    }\n",
       "</style>\n",
       "<table border=\"1\" class=\"dataframe\">\n",
       "  <thead>\n",
       "    <tr style=\"text-align: right;\">\n",
       "      <th></th>\n",
       "      <th>region</th>\n",
       "      <th>population</th>\n",
       "      <th>Unnamed: 2</th>\n",
       "      <th>Unnamed: 3</th>\n",
       "      <th>Unnamed: 4</th>\n",
       "      <th>Unnamed: 5</th>\n",
       "      <th>Unnamed: 6</th>\n",
       "      <th>Unnamed: 7</th>\n",
       "      <th>Unnamed: 8</th>\n",
       "      <th>Unnamed: 9</th>\n",
       "    </tr>\n",
       "  </thead>\n",
       "  <tbody>\n",
       "    <tr>\n",
       "      <th>0</th>\n",
       "      <td>(с учётом итогов Всероссийской переписи населе...</td>\n",
       "      <td>NaN</td>\n",
       "      <td>NaN</td>\n",
       "      <td>NaN</td>\n",
       "      <td>NaN</td>\n",
       "      <td>NaN</td>\n",
       "      <td>NaN</td>\n",
       "      <td>NaN</td>\n",
       "      <td>NaN</td>\n",
       "      <td>NaN</td>\n",
       "    </tr>\n",
       "    <tr>\n",
       "      <th>1</th>\n",
       "      <td>NaN</td>\n",
       "      <td>NaN</td>\n",
       "      <td>NaN</td>\n",
       "      <td>NaN</td>\n",
       "      <td>NaN</td>\n",
       "      <td>NaN</td>\n",
       "      <td>NaN</td>\n",
       "      <td>NaN</td>\n",
       "      <td>NaN</td>\n",
       "      <td>человек</td>\n",
       "    </tr>\n",
       "    <tr>\n",
       "      <th>2</th>\n",
       "      <td>Содержание</td>\n",
       "      <td>Все население</td>\n",
       "      <td>NaN</td>\n",
       "      <td>NaN</td>\n",
       "      <td>Городское население</td>\n",
       "      <td>NaN</td>\n",
       "      <td>NaN</td>\n",
       "      <td>Сельское население</td>\n",
       "      <td>NaN</td>\n",
       "      <td>NaN</td>\n",
       "    </tr>\n",
       "    <tr>\n",
       "      <th>3</th>\n",
       "      <td>NaN</td>\n",
       "      <td>мужчины\\nи женщины</td>\n",
       "      <td>мужчины</td>\n",
       "      <td>женщины</td>\n",
       "      <td>мужчины\\nи женщины</td>\n",
       "      <td>мужчины</td>\n",
       "      <td>женщины</td>\n",
       "      <td>мужчины\\nи женщины</td>\n",
       "      <td>мужчины</td>\n",
       "      <td>женщины</td>\n",
       "    </tr>\n",
       "    <tr>\n",
       "      <th>4</th>\n",
       "      <td>NaN</td>\n",
       "      <td>NaN</td>\n",
       "      <td>NaN</td>\n",
       "      <td>NaN</td>\n",
       "      <td>NaN</td>\n",
       "      <td>NaN</td>\n",
       "      <td>NaN</td>\n",
       "      <td>NaN</td>\n",
       "      <td>NaN</td>\n",
       "      <td>NaN</td>\n",
       "    </tr>\n",
       "  </tbody>\n",
       "</table>\n",
       "</div>"
      ],
      "text/plain": [
       "                                              region          population  \\\n",
       "0  (с учётом итогов Всероссийской переписи населе...                 NaN   \n",
       "1                                                NaN                 NaN   \n",
       "2                                         Содержание       Все население   \n",
       "3                                                NaN  мужчины\\nи женщины   \n",
       "4                                                NaN                 NaN   \n",
       "\n",
       "  Unnamed: 2 Unnamed: 3           Unnamed: 4 Unnamed: 5 Unnamed: 6  \\\n",
       "0        NaN        NaN                  NaN        NaN        NaN   \n",
       "1        NaN        NaN                  NaN        NaN        NaN   \n",
       "2        NaN        NaN  Городское население        NaN        NaN   \n",
       "3    мужчины    женщины   мужчины\\nи женщины    мужчины    женщины   \n",
       "4        NaN        NaN                  NaN        NaN        NaN   \n",
       "\n",
       "           Unnamed: 7 Unnamed: 8 Unnamed: 9  \n",
       "0                 NaN        NaN        NaN  \n",
       "1                 NaN        NaN    человек  \n",
       "2  Сельское население        NaN        NaN  \n",
       "3  мужчины\\nи женщины    мужчины    женщины  \n",
       "4                 NaN        NaN        NaN  "
      ]
     },
     "metadata": {},
     "output_type": "display_data"
    },
    {
     "data": {
      "text/plain": [
       "(101, 10)"
      ]
     },
     "metadata": {},
     "output_type": "display_data"
    }
   ],
   "source": [
    "df4 = pd.read_excel(\"chisl_RF_01-01-2022_VPN-2020.xls\")\n",
    "df4.rename(\n",
    "    columns = {\n",
    "        'Численность населения по полу\\nпо субъектам Российской Федерации на 1 января 2022 года':'region',\n",
    "        'Unnamed: 1':'population'\n",
    "    },\n",
    "    inplace = True\n",
    ")\n",
    "#df4.rename(columns = {'Unnamed: 1':'population'}, inplace = True)\n",
    "df4['region'] = df4['region'].str.strip()\n",
    "\n",
    "df_population = rename_subj(\n",
    "    df4,\n",
    "    \"region\",\n",
    "    subj_rename_data\n",
    ")\n",
    "display(df_population.head())\n",
    "display(df_population.shape)"
   ]
  },
  {
   "cell_type": "code",
   "execution_count": 8,
   "metadata": {},
   "outputs": [
    {
     "data": {
      "text/html": [
       "<div>\n",
       "<style scoped>\n",
       "    .dataframe tbody tr th:only-of-type {\n",
       "        vertical-align: middle;\n",
       "    }\n",
       "\n",
       "    .dataframe tbody tr th {\n",
       "        vertical-align: top;\n",
       "    }\n",
       "\n",
       "    .dataframe thead th {\n",
       "        text-align: right;\n",
       "    }\n",
       "</style>\n",
       "<table border=\"1\" class=\"dataframe\">\n",
       "  <thead>\n",
       "    <tr style=\"text-align: right;\">\n",
       "      <th></th>\n",
       "      <th>region</th>\n",
       "      <th>Unnamed: 1</th>\n",
       "      <th>alcho_bear</th>\n",
       "    </tr>\n",
       "  </thead>\n",
       "  <tbody>\n",
       "    <tr>\n",
       "      <th>0</th>\n",
       "      <td>Российская Федерация</td>\n",
       "      <td>тысяча декалитров</td>\n",
       "      <td>20111.956</td>\n",
       "    </tr>\n",
       "    <tr>\n",
       "      <th>1</th>\n",
       "      <td>Центральный федеральный округ</td>\n",
       "      <td>тысяча декалитров</td>\n",
       "      <td>5098.499</td>\n",
       "    </tr>\n",
       "    <tr>\n",
       "      <th>2</th>\n",
       "      <td>Белгородская область</td>\n",
       "      <td>тысяча декалитров</td>\n",
       "      <td>190.981</td>\n",
       "    </tr>\n",
       "    <tr>\n",
       "      <th>3</th>\n",
       "      <td>Брянская область</td>\n",
       "      <td>тысяча декалитров</td>\n",
       "      <td>134.079</td>\n",
       "    </tr>\n",
       "    <tr>\n",
       "      <th>4</th>\n",
       "      <td>Владимирская область</td>\n",
       "      <td>тысяча декалитров</td>\n",
       "      <td>178.916</td>\n",
       "    </tr>\n",
       "  </tbody>\n",
       "</table>\n",
       "</div>"
      ],
      "text/plain": [
       "                          region         Unnamed: 1  alcho_bear\n",
       "0           Российская Федерация  тысяча декалитров   20111.956\n",
       "1  Центральный федеральный округ  тысяча декалитров    5098.499\n",
       "2           Белгородская область  тысяча декалитров     190.981\n",
       "3               Брянская область  тысяча декалитров     134.079\n",
       "4           Владимирская область  тысяча декалитров     178.916"
      ]
     },
     "metadata": {},
     "output_type": "display_data"
    },
    {
     "data": {
      "text/plain": [
       "(94, 3)"
      ]
     },
     "metadata": {},
     "output_type": "display_data"
    }
   ],
   "source": [
    "df5 = pd.read_excel(\"bear.xls\")\n",
    "df5['region'] = df5['region'].str.strip()\n",
    "df5.rename(columns = {'alcho':'alcho_bear'}, inplace = True)\n",
    "df_beer = rename_subj(\n",
    "    df5,\n",
    "    \"region\",\n",
    "    subj_rename_data\n",
    ")\n",
    "display(df_beer.head())\n",
    "display(df_beer.shape)"
   ]
  },
  {
   "cell_type": "code",
   "execution_count": 9,
   "metadata": {},
   "outputs": [],
   "source": [
    "df_show = df_regions.merge(df_alcho, on=\"region\", how=\"left\")"
   ]
  },
  {
   "cell_type": "code",
   "execution_count": 10,
   "metadata": {},
   "outputs": [
    {
     "data": {
      "text/html": [
       "<div>\n",
       "<style scoped>\n",
       "    .dataframe tbody tr th:only-of-type {\n",
       "        vertical-align: middle;\n",
       "    }\n",
       "\n",
       "    .dataframe tbody tr th {\n",
       "        vertical-align: top;\n",
       "    }\n",
       "\n",
       "    .dataframe thead th {\n",
       "        text-align: right;\n",
       "    }\n",
       "</style>\n",
       "<table border=\"1\" class=\"dataframe\">\n",
       "  <thead>\n",
       "    <tr style=\"text-align: right;\">\n",
       "      <th></th>\n",
       "      <th>region</th>\n",
       "      <th>geometry</th>\n",
       "      <th>Unnamed: 1</th>\n",
       "      <th>alcho</th>\n",
       "    </tr>\n",
       "  </thead>\n",
       "  <tbody>\n",
       "  </tbody>\n",
       "</table>\n",
       "</div>"
      ],
      "text/plain": [
       "Empty GeoDataFrame\n",
       "Columns: [region, geometry, Unnamed: 1, alcho]\n",
       "Index: []"
      ]
     },
     "execution_count": 10,
     "metadata": {},
     "output_type": "execute_result"
    }
   ],
   "source": [
    "df_show[df_show.alcho.isna()]"
   ]
  },
  {
   "cell_type": "code",
   "execution_count": 11,
   "metadata": {},
   "outputs": [],
   "source": [
    "df_show = df_show.merge(df_population, on=\"region\", how=\"left\")"
   ]
  },
  {
   "cell_type": "code",
   "execution_count": 12,
   "metadata": {},
   "outputs": [
    {
     "data": {
      "text/html": [
       "<div>\n",
       "<style scoped>\n",
       "    .dataframe tbody tr th:only-of-type {\n",
       "        vertical-align: middle;\n",
       "    }\n",
       "\n",
       "    .dataframe tbody tr th {\n",
       "        vertical-align: top;\n",
       "    }\n",
       "\n",
       "    .dataframe thead th {\n",
       "        text-align: right;\n",
       "    }\n",
       "</style>\n",
       "<table border=\"1\" class=\"dataframe\">\n",
       "  <thead>\n",
       "    <tr style=\"text-align: right;\">\n",
       "      <th></th>\n",
       "      <th>region</th>\n",
       "      <th>geometry</th>\n",
       "      <th>Unnamed: 1</th>\n",
       "      <th>alcho</th>\n",
       "      <th>population</th>\n",
       "      <th>Unnamed: 2</th>\n",
       "      <th>Unnamed: 3</th>\n",
       "      <th>Unnamed: 4</th>\n",
       "      <th>Unnamed: 5</th>\n",
       "      <th>Unnamed: 6</th>\n",
       "      <th>Unnamed: 7</th>\n",
       "      <th>Unnamed: 8</th>\n",
       "      <th>Unnamed: 9</th>\n",
       "    </tr>\n",
       "  </thead>\n",
       "  <tbody>\n",
       "  </tbody>\n",
       "</table>\n",
       "</div>"
      ],
      "text/plain": [
       "Empty GeoDataFrame\n",
       "Columns: [region, geometry, Unnamed: 1, alcho, population, Unnamed: 2, Unnamed: 3, Unnamed: 4, Unnamed: 5, Unnamed: 6, Unnamed: 7, Unnamed: 8, Unnamed: 9]\n",
       "Index: []"
      ]
     },
     "execution_count": 12,
     "metadata": {},
     "output_type": "execute_result"
    }
   ],
   "source": [
    "df_show[df_show.population.isna()]"
   ]
  },
  {
   "cell_type": "code",
   "execution_count": 13,
   "metadata": {},
   "outputs": [],
   "source": [
    "df_show = df_show.merge(df_beer, on=\"region\", how=\"left\")"
   ]
  },
  {
   "cell_type": "code",
   "execution_count": 14,
   "metadata": {},
   "outputs": [
    {
     "data": {
      "text/html": [
       "<div>\n",
       "<style scoped>\n",
       "    .dataframe tbody tr th:only-of-type {\n",
       "        vertical-align: middle;\n",
       "    }\n",
       "\n",
       "    .dataframe tbody tr th {\n",
       "        vertical-align: top;\n",
       "    }\n",
       "\n",
       "    .dataframe thead th {\n",
       "        text-align: right;\n",
       "    }\n",
       "</style>\n",
       "<table border=\"1\" class=\"dataframe\">\n",
       "  <thead>\n",
       "    <tr style=\"text-align: right;\">\n",
       "      <th></th>\n",
       "      <th>region</th>\n",
       "      <th>geometry</th>\n",
       "      <th>Unnamed: 1_x</th>\n",
       "      <th>alcho</th>\n",
       "      <th>population</th>\n",
       "      <th>Unnamed: 2</th>\n",
       "      <th>Unnamed: 3</th>\n",
       "      <th>Unnamed: 4</th>\n",
       "      <th>Unnamed: 5</th>\n",
       "      <th>Unnamed: 6</th>\n",
       "      <th>Unnamed: 7</th>\n",
       "      <th>Unnamed: 8</th>\n",
       "      <th>Unnamed: 9</th>\n",
       "      <th>Unnamed: 1_y</th>\n",
       "      <th>alcho_bear</th>\n",
       "    </tr>\n",
       "  </thead>\n",
       "  <tbody>\n",
       "  </tbody>\n",
       "</table>\n",
       "</div>"
      ],
      "text/plain": [
       "Empty GeoDataFrame\n",
       "Columns: [region, geometry, Unnamed: 1_x, alcho, population, Unnamed: 2, Unnamed: 3, Unnamed: 4, Unnamed: 5, Unnamed: 6, Unnamed: 7, Unnamed: 8, Unnamed: 9, Unnamed: 1_y, alcho_bear]\n",
       "Index: []"
      ]
     },
     "execution_count": 14,
     "metadata": {},
     "output_type": "execute_result"
    }
   ],
   "source": [
    "df_show[df_show.alcho_bear.isna()]"
   ]
  },
  {
   "cell_type": "code",
   "execution_count": 15,
   "metadata": {},
   "outputs": [],
   "source": [
    "df_show = df_show[['region', 'alcho','alcho_bear', 'population']]\n",
    "df_show['alcho_pop'] = df_show['alcho'] * 10000 / df_show['population']\n",
    "df_show['alcho_pop_bear'] = df_show['alcho_bear'] * 10000 / df_show['population']"
   ]
  },
  {
   "cell_type": "code",
   "execution_count": 22,
   "metadata": {},
   "outputs": [],
   "source": [
    "a = df_show.merge(df_regions, on=\"region\")"
   ]
  },
  {
   "cell_type": "code",
   "execution_count": 28,
   "metadata": {},
   "outputs": [
    {
     "data": {
      "text/plain": [
       "True"
      ]
     },
     "execution_count": 28,
     "metadata": {},
     "output_type": "execute_result"
    }
   ],
   "source": [
    "set(a.region) == set(df_regions.region)"
   ]
  },
  {
   "cell_type": "code",
   "execution_count": 29,
   "metadata": {},
   "outputs": [
    {
     "data": {
      "text/html": [
       "<div>\n",
       "<style scoped>\n",
       "    .dataframe tbody tr th:only-of-type {\n",
       "        vertical-align: middle;\n",
       "    }\n",
       "\n",
       "    .dataframe tbody tr th {\n",
       "        vertical-align: top;\n",
       "    }\n",
       "\n",
       "    .dataframe thead th {\n",
       "        text-align: right;\n",
       "    }\n",
       "</style>\n",
       "<table border=\"1\" class=\"dataframe\">\n",
       "  <thead>\n",
       "    <tr style=\"text-align: right;\">\n",
       "      <th></th>\n",
       "      <th>region</th>\n",
       "      <th>alcho</th>\n",
       "      <th>alcho_bear</th>\n",
       "      <th>population</th>\n",
       "      <th>alcho_pop</th>\n",
       "      <th>alcho_pop_bear</th>\n",
       "    </tr>\n",
       "  </thead>\n",
       "  <tbody>\n",
       "    <tr>\n",
       "      <th>0</th>\n",
       "      <td>Бурятия</td>\n",
       "      <td>281.191</td>\n",
       "      <td>155.109</td>\n",
       "      <td>977951</td>\n",
       "      <td>2.875308</td>\n",
       "      <td>1.586061</td>\n",
       "    </tr>\n",
       "    <tr>\n",
       "      <th>1</th>\n",
       "      <td>Карачаево-Черкесская республика</td>\n",
       "      <td>38.623</td>\n",
       "      <td>3.644</td>\n",
       "      <td>469096</td>\n",
       "      <td>0.82335</td>\n",
       "      <td>0.077681</td>\n",
       "    </tr>\n",
       "    <tr>\n",
       "      <th>2</th>\n",
       "      <td>Сахалинская область</td>\n",
       "      <td>311.396</td>\n",
       "      <td>160.262</td>\n",
       "      <td>466009</td>\n",
       "      <td>6.682189</td>\n",
       "      <td>3.439032</td>\n",
       "    </tr>\n",
       "    <tr>\n",
       "      <th>3</th>\n",
       "      <td>Воронежская область</td>\n",
       "      <td>740.516</td>\n",
       "      <td>269.722</td>\n",
       "      <td>2302617</td>\n",
       "      <td>3.215976</td>\n",
       "      <td>1.171372</td>\n",
       "    </tr>\n",
       "    <tr>\n",
       "      <th>4</th>\n",
       "      <td>Томская область</td>\n",
       "      <td>353.269</td>\n",
       "      <td>157.331</td>\n",
       "      <td>1062726</td>\n",
       "      <td>3.324178</td>\n",
       "      <td>1.480447</td>\n",
       "    </tr>\n",
       "    <tr>\n",
       "      <th>...</th>\n",
       "      <td>...</td>\n",
       "      <td>...</td>\n",
       "      <td>...</td>\n",
       "      <td>...</td>\n",
       "      <td>...</td>\n",
       "      <td>...</td>\n",
       "    </tr>\n",
       "    <tr>\n",
       "      <th>82</th>\n",
       "      <td>Ингушетия</td>\n",
       "      <td>8.134</td>\n",
       "      <td>0.000</td>\n",
       "      <td>511316</td>\n",
       "      <td>0.15908</td>\n",
       "      <td>0.0</td>\n",
       "    </tr>\n",
       "    <tr>\n",
       "      <th>83</th>\n",
       "      <td>Челябинская область</td>\n",
       "      <td>1235.762</td>\n",
       "      <td>614.727</td>\n",
       "      <td>3421556</td>\n",
       "      <td>3.611696</td>\n",
       "      <td>1.79663</td>\n",
       "    </tr>\n",
       "    <tr>\n",
       "      <th>84</th>\n",
       "      <td>Башкортостан</td>\n",
       "      <td>1200.363</td>\n",
       "      <td>612.897</td>\n",
       "      <td>4091621</td>\n",
       "      <td>2.93371</td>\n",
       "      <td>1.497932</td>\n",
       "    </tr>\n",
       "    <tr>\n",
       "      <th>85</th>\n",
       "      <td>г. Севастополь</td>\n",
       "      <td>225.913</td>\n",
       "      <td>56.260</td>\n",
       "      <td>547452</td>\n",
       "      <td>4.126627</td>\n",
       "      <td>1.02767</td>\n",
       "    </tr>\n",
       "    <tr>\n",
       "      <th>86</th>\n",
       "      <td>Республика Крым</td>\n",
       "      <td>610.749</td>\n",
       "      <td>155.029</td>\n",
       "      <td>1931091</td>\n",
       "      <td>3.162715</td>\n",
       "      <td>0.802805</td>\n",
       "    </tr>\n",
       "  </tbody>\n",
       "</table>\n",
       "<p>87 rows × 6 columns</p>\n",
       "</div>"
      ],
      "text/plain": [
       "                             region     alcho  alcho_bear population  \\\n",
       "0                           Бурятия   281.191     155.109     977951   \n",
       "1   Карачаево-Черкесская республика    38.623       3.644     469096   \n",
       "2               Сахалинская область   311.396     160.262     466009   \n",
       "3               Воронежская область   740.516     269.722    2302617   \n",
       "4                   Томская область   353.269     157.331    1062726   \n",
       "..                              ...       ...         ...        ...   \n",
       "82                        Ингушетия     8.134       0.000     511316   \n",
       "83              Челябинская область  1235.762     614.727    3421556   \n",
       "84                     Башкортостан  1200.363     612.897    4091621   \n",
       "85                   г. Севастополь   225.913      56.260     547452   \n",
       "86                  Республика Крым   610.749     155.029    1931091   \n",
       "\n",
       "   alcho_pop alcho_pop_bear  \n",
       "0   2.875308       1.586061  \n",
       "1    0.82335       0.077681  \n",
       "2   6.682189       3.439032  \n",
       "3   3.215976       1.171372  \n",
       "4   3.324178       1.480447  \n",
       "..       ...            ...  \n",
       "82   0.15908            0.0  \n",
       "83  3.611696        1.79663  \n",
       "84   2.93371       1.497932  \n",
       "85  4.126627        1.02767  \n",
       "86  3.162715       0.802805  \n",
       "\n",
       "[87 rows x 6 columns]"
      ]
     },
     "execution_count": 29,
     "metadata": {},
     "output_type": "execute_result"
    }
   ],
   "source": [
    "df_show"
   ]
  },
  {
   "cell_type": "code",
   "execution_count": 38,
   "metadata": {},
   "outputs": [
    {
     "data": {
      "text/html": [
       "<div>\n",
       "<style scoped>\n",
       "    .dataframe tbody tr th:only-of-type {\n",
       "        vertical-align: middle;\n",
       "    }\n",
       "\n",
       "    .dataframe tbody tr th {\n",
       "        vertical-align: top;\n",
       "    }\n",
       "\n",
       "    .dataframe thead th {\n",
       "        text-align: right;\n",
       "    }\n",
       "</style>\n",
       "<table border=\"1\" class=\"dataframe\">\n",
       "  <thead>\n",
       "    <tr style=\"text-align: right;\">\n",
       "      <th></th>\n",
       "      <th>region</th>\n",
       "      <th>alcho</th>\n",
       "      <th>alcho_bear</th>\n",
       "      <th>population</th>\n",
       "      <th>alcho_pop</th>\n",
       "      <th>alcho_pop_bear</th>\n",
       "    </tr>\n",
       "  </thead>\n",
       "  <tbody>\n",
       "    <tr>\n",
       "      <th>19</th>\n",
       "      <td>Тюменская область</td>\n",
       "      <td>562.085</td>\n",
       "      <td>287.226</td>\n",
       "      <td>1602672</td>\n",
       "      <td>3.507174</td>\n",
       "      <td>1.79217</td>\n",
       "    </tr>\n",
       "    <tr>\n",
       "      <th>54</th>\n",
       "      <td>Архангельская область</td>\n",
       "      <td>577.779</td>\n",
       "      <td>173.722</td>\n",
       "      <td>974604</td>\n",
       "      <td>5.928346</td>\n",
       "      <td>1.782488</td>\n",
       "    </tr>\n",
       "  </tbody>\n",
       "</table>\n",
       "</div>"
      ],
      "text/plain": [
       "                   region    alcho  alcho_bear population alcho_pop  \\\n",
       "19      Тюменская область  562.085     287.226    1602672  3.507174   \n",
       "54  Архангельская область  577.779     173.722     974604  5.928346   \n",
       "\n",
       "   alcho_pop_bear  \n",
       "19        1.79217  \n",
       "54       1.782488  "
      ]
     },
     "execution_count": 38,
     "metadata": {},
     "output_type": "execute_result"
    }
   ],
   "source": [
    "df_show[df_show.region.duplicated()]"
   ]
  },
  {
   "cell_type": "code",
   "execution_count": 39,
   "metadata": {},
   "outputs": [
    {
     "data": {
      "text/html": [
       "<div>\n",
       "<style scoped>\n",
       "    .dataframe tbody tr th:only-of-type {\n",
       "        vertical-align: middle;\n",
       "    }\n",
       "\n",
       "    .dataframe tbody tr th {\n",
       "        vertical-align: top;\n",
       "    }\n",
       "\n",
       "    .dataframe thead th {\n",
       "        text-align: right;\n",
       "    }\n",
       "</style>\n",
       "<table border=\"1\" class=\"dataframe\">\n",
       "  <thead>\n",
       "    <tr style=\"text-align: right;\">\n",
       "      <th></th>\n",
       "      <th>region</th>\n",
       "      <th>alcho</th>\n",
       "      <th>alcho_bear</th>\n",
       "      <th>population</th>\n",
       "      <th>alcho_pop</th>\n",
       "      <th>alcho_pop_bear</th>\n",
       "    </tr>\n",
       "  </thead>\n",
       "  <tbody>\n",
       "    <tr>\n",
       "      <th>18</th>\n",
       "      <td>Тюменская область</td>\n",
       "      <td>562.085</td>\n",
       "      <td>287.226</td>\n",
       "      <td>3827679</td>\n",
       "      <td>1.468475</td>\n",
       "      <td>0.750392</td>\n",
       "    </tr>\n",
       "    <tr>\n",
       "      <th>19</th>\n",
       "      <td>Тюменская область</td>\n",
       "      <td>562.085</td>\n",
       "      <td>287.226</td>\n",
       "      <td>1602672</td>\n",
       "      <td>3.507174</td>\n",
       "      <td>1.79217</td>\n",
       "    </tr>\n",
       "  </tbody>\n",
       "</table>\n",
       "</div>"
      ],
      "text/plain": [
       "               region    alcho  alcho_bear population alcho_pop alcho_pop_bear\n",
       "18  Тюменская область  562.085     287.226    3827679  1.468475       0.750392\n",
       "19  Тюменская область  562.085     287.226    1602672  3.507174        1.79217"
      ]
     },
     "execution_count": 39,
     "metadata": {},
     "output_type": "execute_result"
    }
   ],
   "source": [
    "df_show[df_show.region == \"Тюменская область\"]"
   ]
  },
  {
   "cell_type": "code",
   "execution_count": 40,
   "metadata": {},
   "outputs": [
    {
     "data": {
      "text/html": [
       "<div>\n",
       "<style scoped>\n",
       "    .dataframe tbody tr th:only-of-type {\n",
       "        vertical-align: middle;\n",
       "    }\n",
       "\n",
       "    .dataframe tbody tr th {\n",
       "        vertical-align: top;\n",
       "    }\n",
       "\n",
       "    .dataframe thead th {\n",
       "        text-align: right;\n",
       "    }\n",
       "</style>\n",
       "<table border=\"1\" class=\"dataframe\">\n",
       "  <thead>\n",
       "    <tr style=\"text-align: right;\">\n",
       "      <th></th>\n",
       "      <th>region</th>\n",
       "      <th>alcho</th>\n",
       "      <th>alcho_bear</th>\n",
       "      <th>population</th>\n",
       "      <th>alcho_pop</th>\n",
       "      <th>alcho_pop_bear</th>\n",
       "    </tr>\n",
       "  </thead>\n",
       "  <tbody>\n",
       "    <tr>\n",
       "      <th>53</th>\n",
       "      <td>Архангельская область</td>\n",
       "      <td>577.779</td>\n",
       "      <td>173.722</td>\n",
       "      <td>1016030</td>\n",
       "      <td>5.686633</td>\n",
       "      <td>1.709812</td>\n",
       "    </tr>\n",
       "    <tr>\n",
       "      <th>54</th>\n",
       "      <td>Архангельская область</td>\n",
       "      <td>577.779</td>\n",
       "      <td>173.722</td>\n",
       "      <td>974604</td>\n",
       "      <td>5.928346</td>\n",
       "      <td>1.782488</td>\n",
       "    </tr>\n",
       "  </tbody>\n",
       "</table>\n",
       "</div>"
      ],
      "text/plain": [
       "                   region    alcho  alcho_bear population alcho_pop  \\\n",
       "53  Архангельская область  577.779     173.722    1016030  5.686633   \n",
       "54  Архангельская область  577.779     173.722     974604  5.928346   \n",
       "\n",
       "   alcho_pop_bear  \n",
       "53       1.709812  \n",
       "54       1.782488  "
      ]
     },
     "execution_count": 40,
     "metadata": {},
     "output_type": "execute_result"
    }
   ],
   "source": [
    "df_show[df_show.region == \"Архангельская область\"]"
   ]
  },
  {
   "cell_type": "code",
   "execution_count": 41,
   "metadata": {},
   "outputs": [],
   "source": [
    "# Дубли потому что арнахгельск есть в таблице населения с автономиями и без автономий"
   ]
  },
  {
   "cell_type": "code",
   "execution_count": null,
   "metadata": {},
   "outputs": [],
   "source": []
  },
  {
   "cell_type": "code",
   "execution_count": null,
   "metadata": {},
   "outputs": [],
   "source": []
  },
  {
   "cell_type": "code",
   "execution_count": null,
   "metadata": {},
   "outputs": [],
   "source": []
  },
  {
   "cell_type": "code",
   "execution_count": null,
   "metadata": {},
   "outputs": [],
   "source": []
  },
  {
   "cell_type": "code",
   "execution_count": null,
   "metadata": {},
   "outputs": [],
   "source": []
  },
  {
   "cell_type": "code",
   "execution_count": null,
   "metadata": {},
   "outputs": [],
   "source": [
    "url1 = \"https://raw.githubusercontent.com/tttdddnet/Python-Jupyter-Geo/88f57d23e1a7fdc283eec9e255fd0a2dc3103e12/geo_ru.json\"\n",
    "with request.urlopen(url1) as f:\n",
    "    geo= json.load(f)\n",
    "df1 = gpd.read_file(url1)\n",
    "df1.rename(columns = {'name':'region'}, inplace = True)"
   ]
  },
  {
   "cell_type": "code",
   "execution_count": null,
   "metadata": {},
   "outputs": [],
   "source": [
    "df1"
   ]
  },
  {
   "cell_type": "code",
   "execution_count": null,
   "metadata": {},
   "outputs": [],
   "source": [
    "seva = df1[df1['region'] == \"Sevastopol'\"]\n",
    "seva= seva.drop(['id','Subject_translit','Subject_en'], axis = 1)\n",
    "seva"
   ]
  },
  {
   "cell_type": "code",
   "execution_count": null,
   "metadata": {},
   "outputs": [],
   "source": [
    "crimea = df1[df1['region'] == 'Crimea']\n",
    "crimea = crimea.drop(['id','Subject_translit','Subject_en'], axis = 1)\n",
    "crimea"
   ]
  },
  {
   "cell_type": "code",
   "execution_count": null,
   "metadata": {
    "colab": {
     "base_uri": "https://localhost:8080/",
     "height": 424
    },
    "id": "GQgPBWvvyItV",
    "outputId": "6e967a25-a51c-40c9-a3b0-16b0d92b9413",
    "scrolled": false
   },
   "outputs": [],
   "source": [
    "url = \"https://raw.githubusercontent.com/codeforamerica/click_that_hood/master/public/data/russia.geojson\"\n",
    "with request.urlopen(url) as f:\n",
    "    geo= json.load(f)\n",
    "df = gpd.read_file(url)\n",
    "df.rename(columns = {'name':'region'}, inplace = True)"
   ]
  },
  {
   "cell_type": "code",
   "execution_count": null,
   "metadata": {
    "scrolled": true
   },
   "outputs": [],
   "source": [
    "df = df.drop(['cartodb_id', 'created_at','updated_at','name_latin'], axis = 1)\n",
    "df"
   ]
  },
  {
   "cell_type": "code",
   "execution_count": null,
   "metadata": {
    "scrolled": true
   },
   "outputs": [],
   "source": [
    "df = pd.concat([df, crimea])\n",
    "df = pd.concat([df, seva])\n",
    "df['region'] = df['region'].replace({'Crimea':\"Республика Крым\"})\n",
    "df['region'] = df['region'].replace({\"Sevastopol'\":\"г. Севастополь\"})\n",
    "df"
   ]
  },
  {
   "cell_type": "code",
   "execution_count": null,
   "metadata": {
    "colab": {
     "base_uri": "https://localhost:8080/",
     "height": 424
    },
    "id": "tZVASpdHxe3Z",
    "outputId": "dfe0cb99-6af9-49f3-b98a-acf18db56bb6",
    "scrolled": true
   },
   "outputs": [],
   "source": [
    "df3 = pd.read_excel(\"alcho.xls\")\n",
    "df3['region'] = df3['region'].str.strip()\n",
    "df3['region'] = df3['region'].replace({'Тюменская обл.без данных по Ханты-Мансийскому и Ямало-Ненецкому авт. окр.':'Тюменская область без автономий'})\n",
    "df3['region'] = df3['region'].replace({'Ханты-Мансийский автономный округ - Югра (Тюменская область)': 'Ханты-Мансийский авт. округ – Югра'})\n",
    "df3['region'] = df3['region'].replace({'Ямало-Ненецкий автономный округ (Тюменская область)': 'Ямало-Ненецкий автономный округ'})\n",
    "df3['region'] = df3['region'].replace({'Архангельская обл. без данных по Ненецкому авт. окр.': 'Архангельская область без автономии'})\n",
    "df3['region'] = df3['region'].replace({\"Ненецкий автономный округ (Архангельская область)\":\"Ненецкий автономный округ\"})\n",
    "df3[df3['region'] == 'Республика Северная Осетия - Алания']"
   ]
  },
  {
   "cell_type": "code",
   "execution_count": null,
   "metadata": {},
   "outputs": [],
   "source": [
    "df5 = pd.read_excel(\"bear.xls\")\n",
    "df5['region'] = df5['region'].str.strip()\n",
    "df5['region'] = df5['region'].replace({'Тюменская обл.без данных по Ханты-Мансийскому и Ямало-Ненецкому авт. окр.':'Тюменская область без автономий'})\n",
    "df5['region'] = df5['region'].replace({'Ханты-Мансийский автономный округ - Югра (Тюменская область)': 'Ханты-Мансийский авт. округ – Югра'})\n",
    "df5['region'] = df5['region'].replace({'Ямало-Ненецкий автономный округ (Тюменская область)': 'Ямало-Ненецкий автономный округ'})\n",
    "df5['region'] = df5['region'].replace({'Архангельская обл. без данных по Ненецкому авт. окр.': 'Архангельская область без автономии'})\n",
    "df5['region'] = df5['region'].replace({\"Ненецкий автономный округ (Архангельская область)\":\"Ненецкий автономный округ\"})\n",
    "df5[df5['region'] == 'Республика Северная Осетия - Алания']\n",
    "df5.rename(columns = {'alcho':'alcho_bear'}, inplace = True)"
   ]
  },
  {
   "cell_type": "code",
   "execution_count": null,
   "metadata": {
    "scrolled": true
   },
   "outputs": [],
   "source": [
    "df4 = pd.read_excel(\"chisl_RF_01-01-2022_VPN-2020.xls\")\n",
    "df4.rename(columns = {'Численность населения по полу\\nпо субъектам Российской Федерации на 1 января 2022 года':'region'}, inplace = True)\n",
    "df4.rename(columns = {'Unnamed: 1':'population'}, inplace = True)\n",
    "df4['region'] = df4['region'].str.strip()\n",
    "df4['region'] = df4['region'].replace({'Чувашская Республика':'Чувашская Республика - Чувашия'})\n",
    "df4['region'] = df4['region'].replace({'Республика Татарстан':'Республика Татарстан (Татарстан)'})\n",
    "df4['region'] = df4['region'].replace({\"Кемеровская область – Кузбасс\":\"Кемеровская область\"})\n",
    "df4['region'] = df4['region'].replace({\"Республика Адыгея\":\"Республика Адыгея (Адыгея)\"})\n",
    "df4['region'] = df4['region'].replace({'Республика Северная Осетия – Алания':\"Республика Северная Осетия - Алания\"})"
   ]
  },
  {
   "cell_type": "code",
   "execution_count": null,
   "metadata": {
    "scrolled": false
   },
   "outputs": [],
   "source": [
    "df3 = df3.merge(df4, on = 'region')\n",
    "df3 = df3.merge(df5, on = 'region')\n",
    "df3 = df3[['region', 'alcho','alcho_bear', 'population']]\n",
    "df3['alcho_pop'] = df3['alcho'] * 10000 / df3['population']\n",
    "df3['alcho_pop_bear'] = df3['alcho_bear'] * 10000 / df3['population']\n",
    "df3[df3['region'] == 'Республика Северная Осетия - Алания']"
   ]
  },
  {
   "cell_type": "code",
   "execution_count": null,
   "metadata": {
    "scrolled": true
   },
   "outputs": [],
   "source": [
    "#df['region'].to_excel(\"outp.xlsx\")\n",
    "reg1 = {\"Республика Бурятия\":\"Бурятия\",\n",
    "\"г. Москва\":\"Москва\",\n",
    "\"г. Санкт-Петербург\":\"Санкт-Петербург\",\n",
    "\"Республика Тыва\":\"Тыва\",\n",
    "\"Кабардино-Балкарская Республика\":\"Кабардино-Балкарская республика\",\n",
    "#Чукотский автономный округ\n",
    "\"Республика Адыгея\":\"Адыгея\",\n",
    "\"Республика Татарстан\":\"Татарстан\",\n",
    "\"Республика Марий Эл\":\"Марий Эл\",\n",
    "\"Чувашская Республика\":\"Чувашия\",\n",
    "\"Республика Северная Осетия - Алания\":\"Северная Осетия - Алания\",\n",
    "\"Республика Алтай\":\"Алтай\",\n",
    "\"Республика Дагестан\":\"Дагестан\",\n",
    "\"Кемеровская область - Кузбасс\":\"Кемеровская область\",\n",
    "\"Республика Ингушетия\":\"Ингушетия\",\n",
    "\"Республика Башкортостан\": \"Башкортостан\",\n",
    "\"Удмуртская Республика\" :\"Удмуртская республика\",\n",
    "\"Республика Адыгея (Адыгея)\":\"Адыгея\",\n",
    "\"Карачаево-Черкесская Республика\":\"Карачаево-Черкесская республика\",\n",
    "\"Республика Северная Осетия – Алания\":\"Северная Осетия - Алания\",\n",
    "\"Чеченская Республика\":\"Чеченская республика\",\n",
    "\"Чувашская Республика - Чувашия\":\"Чувашия\",\n",
    "\"Республика Татарстан (Татарстан)\":\"Татарстан\",\n",
    "\"Тюменская область без автономий\":\"Тюменская область\",\n",
    "\"Ханты-Мансийский авт. округ – Югра\":\"Ханты-Мансийский автономный округ - Югра\",\n",
    "\"Архангельская область без автономии\":\"Архангельская область\"\n",
    "       }\n",
    "df3['region'] = df3['region'].replace(reg1)\n",
    "df3[df3['region'] == 'Северная Осетия - Алания']"
   ]
  },
  {
   "cell_type": "code",
   "execution_count": null,
   "metadata": {
    "colab": {
     "base_uri": "https://localhost:8080/",
     "height": 528
    },
    "id": "dStzgVXExuoX",
    "outputId": "778054e4-7c1c-4113-8d7e-32495d9aa588",
    "scrolled": true
   },
   "outputs": [],
   "source": [
    "# df[\"lon\"] = df[\"geometry\"].centroid.x\n",
    "# df[\"lat\"] = df[\"geometry\"].centroid.y\n",
    "#df['value'] = np.random.randint(5,50,36)\n",
    "#df\n",
    "df3 = df3.merge(df, on='region')\n",
    "df3"
   ]
  },
  {
   "cell_type": "code",
   "execution_count": null,
   "metadata": {
    "id": "MAzEccl5vaOq"
   },
   "outputs": [],
   "source": [
    "russia_map = folium.Map(\n",
    "    location = [64.6863136, 97.7453061],    # широта и долгота России\n",
    "    zoom_start = 4\n",
    ")\n",
    "\n",
    "#display (russia_map)"
   ]
  },
  {
   "cell_type": "code",
   "execution_count": null,
   "metadata": {
    "colab": {
     "base_uri": "https://localhost:8080/",
     "height": 1000
    },
    "id": "gMr3xVQ-wZNF",
    "outputId": "b35e523e-83dc-44bc-ba95-f4c1a4060f08",
    "scrolled": false
   },
   "outputs": [],
   "source": [
    "#Алкогольная продукция (без пива, напитков, изготовляемых на основе пива, сидра, пуаре и медовухи) - всего\n",
    "#Розничная продажа алкогольной продукции в натуральном выражении\n",
    "# [64.6863136, 97.7453061] # широта и долгота России\n",
    "Map = folium.Map(\n",
    "    [69, 96],\n",
    "    zoom_start=3.5,\n",
    "    width=\"%100\",\n",
    "    height=\"%100\"\n",
    ")\n",
    "\n",
    "folium.Choropleth(\n",
    "    geo_data=df_regions,\n",
    "    data=df_show,\n",
    "    name = 'Алко',\n",
    "    columns=['region', 'alcho_pop'],   \n",
    "    #Розничные продажи алкогольной продукции (без пива, напитков, изготовляемых на основе пива, сидра, пуаре и медовухи) на душу населения (в литрах этанола)\n",
    "    legend_name='Продажа алкогольной продукции* в литрах этанола на душу населения',\n",
    "    key_on='feature.properties.region',\n",
    "    fill_color=\"YlOrRd\",\n",
    "    fill_opacity=0.6,\n",
    "    line_opacity=0.5,\n",
    "    ).add_to(Map)\n",
    "\n",
    "#folium.LayerControl().add_to(Map)\n",
    "folium.Choropleth(\n",
    "    geo_data=df,\n",
    "    data=df3,\n",
    "    name = 'Пиииво',\n",
    "    columns=['region', 'alcho_pop_bear'],   \n",
    "    #Розничная продажа пива, пивных напитков, сидра, пуаре и медовухи на душу населения (в литрах этанола)\n",
    "    legend_name='Продажа алкогольной продукции** в литрах этанола на душу населения',\n",
    "    key_on='feature.properties.region',\n",
    "    fill_color=\"YlOrRd\",\n",
    "    fill_opacity=0.6,\n",
    "    line_opacity=0.5,\n",
    "    ).add_to(Map)\n",
    "\n",
    "folium.TileLayer('openstreetmap').add_to(Map)\n",
    "folium.LayerControl().add_to(Map)\n",
    "tooltip = \"Click Here For More Info\"\n",
    "# координаты середины канала - 66°25' с. ш. 94°15' в. д\n",
    "marker = folium.Marker(\n",
    "    location=[66.25, 91.15],\n",
    "    popup=\"<stong><a href='https://t.me/maps_stat'>tg: https://t.me/maps_stat</a><br /><a href='https://vk.com/maps_stat'>vk: https://vk.com/maps_stat</a></stong>\",\n",
    "    icon=folium.DivIcon(html=f\"\"\"\n",
    "      <div style=\"color:#878787;background:#878787:90px;text-align:center;\"><h5><u>@maps_stat<h5></u></div>\n",
    "    \"\"\"),\n",
    "    fill_opacity=0.5\n",
    "    )\n",
    "marker.add_to(Map)\n",
    "\n",
    "Map"
   ]
  },
  {
   "cell_type": "code",
   "execution_count": null,
   "metadata": {},
   "outputs": [],
   "source": [
    "#Map.save(\"alcho.html\")"
   ]
  },
  {
   "cell_type": "code",
   "execution_count": null,
   "metadata": {},
   "outputs": [],
   "source": []
  }
 ],
 "metadata": {
  "colab": {
   "provenance": []
  },
  "kernelspec": {
   "display_name": "Python 3 (ipykernel)",
   "language": "python",
   "name": "python3"
  },
  "language_info": {
   "codemirror_mode": {
    "name": "ipython",
    "version": 3
   },
   "file_extension": ".py",
   "mimetype": "text/x-python",
   "name": "python",
   "nbconvert_exporter": "python",
   "pygments_lexer": "ipython3",
   "version": "3.9.7"
  },
  "vscode": {
   "interpreter": {
    "hash": "56f6ae7d6d59590fbed43caea99ad29917dd6762612e50bc71702a90353251d2"
   }
  }
 },
 "nbformat": 4,
 "nbformat_minor": 1
}
