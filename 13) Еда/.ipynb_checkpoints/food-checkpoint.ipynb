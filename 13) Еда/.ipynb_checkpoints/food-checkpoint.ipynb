{
 "cells": [
  {
   "cell_type": "code",
   "execution_count": null,
   "metadata": {
    "id": "Cekcy3pwvqMi"
   },
   "outputs": [],
   "source": [
    "#pip install folium\n",
    "import folium\n",
    "\n",
    "# Import folium MarkerCluster plugin\n",
    "from folium.plugins import MarkerCluster\n",
    "# Import folium MousePosition plugin\n",
    "from folium.plugins import MousePosition\n",
    "# Import folium DivIcon plugin\n",
    "from folium.features import DivIcon"
   ]
  },
  {
   "cell_type": "code",
   "execution_count": null,
   "metadata": {},
   "outputs": [],
   "source": [
    "import urllib\n",
    "from urllib import request\n",
    "import urllib.request\n",
    "import json\n",
    "import geopandas as gpd\n",
    "import pandas as pd\n",
    "import numpy as np"
   ]
  },
  {
   "cell_type": "code",
   "execution_count": null,
   "metadata": {},
   "outputs": [],
   "source": [
    "from sklearn import preprocessing"
   ]
  },
  {
   "cell_type": "code",
   "execution_count": null,
   "metadata": {},
   "outputs": [],
   "source": [
    "#pip install geojson"
   ]
  },
  {
   "cell_type": "code",
   "execution_count": null,
   "metadata": {},
   "outputs": [],
   "source": [
    "import os\n",
    "import json\n",
    "import random\n",
    "import requests\n",
    "import geojson"
   ]
  },
  {
   "cell_type": "code",
   "execution_count": null,
   "metadata": {},
   "outputs": [],
   "source": [
    "import branca\n",
    "from folium.features import GeoJson, GeoJsonTooltip, GeoJsonPopup"
   ]
  },
  {
   "cell_type": "code",
   "execution_count": null,
   "metadata": {},
   "outputs": [],
   "source": [
    "path = os.getcwd()\n",
    "os.chdir(\"../\")\n",
    "# импорт функции rename_subj для приведения всех названий регионов к единому стандарту\n",
    "from Utils.subj_rename import rename_subj\n",
    "# импорт функции, сохраняющей карту в хорошем качестве в png формат\n",
    "from Utils.save_map import map_to_png\n",
    "os.chdir(path.split(\"\\\\\")[-1])"
   ]
  },
  {
   "cell_type": "code",
   "execution_count": null,
   "metadata": {},
   "outputs": [],
   "source": [
    "# импорт словаря переименований регионов для унифицирования их названия в используемых df\n",
    "with open(\"../Utils/subj_rename.json\", encoding=\"utf-8\") as file:\n",
    "    subj_rename_data = json.load(file)"
   ]
  },
  {
   "cell_type": "code",
   "execution_count": null,
   "metadata": {},
   "outputs": [],
   "source": [
    "df_food = pd.read_excel(\"food.xls\")"
   ]
  },
  {
   "cell_type": "code",
   "execution_count": null,
   "metadata": {},
   "outputs": [],
   "source": [
    "df_food"
   ]
  },
  {
   "cell_type": "code",
   "execution_count": null,
   "metadata": {},
   "outputs": [],
   "source": [
    "#df_food  = pd.read_excel(\"food.xlsx\")\n",
    "df_food[\"region\"] = df_food[\"region\"].str.strip()\n",
    "\n",
    "# приведение названий регионов к единому стандарту для корректного отображения на карте\n",
    "df_food = rename_subj(\n",
    "    df_food,\n",
    "    \"region\",\n",
    "    subj_rename_data\n",
    ")\n",
    "display(df_food.head())\n",
    "df_food.shape"
   ]
  },
  {
   "cell_type": "code",
   "execution_count": null,
   "metadata": {},
   "outputs": [],
   "source": [
    "#pip install openpyxl"
   ]
  },
  {
   "cell_type": "code",
   "execution_count": null,
   "metadata": {},
   "outputs": [],
   "source": [
    "df_regions = gpd.read_file(\"../Utils/geo_data.json\").rename(columns={\"name\": \"region\"})\n",
    "\n",
    "# приведение названий регионов к единому стандарту для корректного отображения на карте\n",
    "df_regions = rename_subj(\n",
    "    df_regions,\n",
    "    \"region\",\n",
    "    subj_rename_data\n",
    ")\n",
    "display(df_regions.head())\n",
    "df_regions.shape"
   ]
  },
  {
   "cell_type": "code",
   "execution_count": null,
   "metadata": {},
   "outputs": [],
   "source": [
    "df_show = df_regions.merge(df_food, on=\"region\", how=\"right\")\n",
    "display(df_show.head())\n",
    "df_show.shape"
   ]
  },
  {
   "cell_type": "code",
   "execution_count": null,
   "metadata": {},
   "outputs": [],
   "source": [
    "type(df_show)"
   ]
  },
  {
   "cell_type": "code",
   "execution_count": null,
   "metadata": {},
   "outputs": [],
   "source": [
    "type(df_show.drop(['food'], axis = 1))"
   ]
  },
  {
   "cell_type": "code",
   "execution_count": null,
   "metadata": {},
   "outputs": [],
   "source": [
    "df_show = df_show.dropna()"
   ]
  },
  {
   "cell_type": "code",
   "execution_count": null,
   "metadata": {},
   "outputs": [],
   "source": [
    "Map = folium.Map(\n",
    "    [69, 96],\n",
    "    zoom_start=3.5,\n",
    "    dragging=True,\n",
    "    zoom_control=True,\n",
    "    scrollWheelZoom=True,\n",
    "  )\n",
    "\n",
    "Popup = GeoJsonPopup(\n",
    "    fields=['region','food'],\n",
    "    #aliases = [\"Регион\", \"Данные\"]\n",
    "    localize=True,\n",
    "    labels=True,  \n",
    ")\n",
    "\n",
    "folium.Choropleth(\n",
    "    geo_data=df_show,\n",
    "    data=df_show,\n",
    "    columns=['region', 'food'],   \n",
    "    legend_name='Оборот общественного питания на душу населения (в рублях)',\n",
    "    key_on='feature.properties.region',\n",
    "    fill_color=\"Reds\",\n",
    "    fill_opacity=0.8,\n",
    "    line_opacity=0.5,\n",
    "    highlight=True,\n",
    ").add_to(Map)\n",
    "\n",
    "folium.GeoJson(\n",
    "    df_show,\n",
    "    style_function=lambda feature: {\n",
    "        'fillColor': '#ffffff',\n",
    "        'color': 'ffffff',\n",
    "        'weight': 1,\n",
    "        'opacity': 0.00001,\n",
    "        'line_opacity': 0.9,\n",
    "        'line_weight': 1\n",
    "    },\n",
    "    highlight_function=lambda feature: {\n",
    "        'fillColor': '#98ff98',\n",
    "        'color': 'yellow',\n",
    "        'weight': 1,\n",
    "        'line_opacity': 1,\n",
    "        'line_weight': 1,\n",
    "        'opacity': 1\n",
    "    },\n",
    "    #tooltip=Tooltip,\n",
    "    popup=Popup).add_to(Map)\n",
    "\n",
    "#folium.LayerControl().add_to(Map)\n",
    "\n",
    "tooltip = \"Click Here For More Info\"\n",
    "# координаты середины канала - 66°25' с. ш. 94°15' в. д.\n",
    "marker = folium.Marker(\n",
    "    location=[66.25, 91.15],\n",
    "    popup=\"\"\"\n",
    "        <stong>\n",
    "            <a href='https://t.me/maps_stat'>tg: https://t.me/maps_stat</a><br />\n",
    "            <a href='https://vk.com/maps_stat'>vk: https://vk.com/maps_stat</a>\n",
    "        </stong>\n",
    "    \"\"\",\n",
    "    icon=folium.DivIcon(\n",
    "        html=\"\"\"\n",
    "            <div style=\"color:#000000;background:#878787:90px;text-align:center;\"><h5><u>@maps_stat</u><h5></div>\n",
    "        \"\"\"\n",
    "    ),\n",
    "    fill_opacity=0.5\n",
    ")\n",
    "marker.add_to(Map)\n",
    "\n",
    "folium.LayerControl().add_to(Map)\n",
    "Map"
   ]
  },
  {
   "cell_type": "code",
   "execution_count": null,
   "metadata": {},
   "outputs": [],
   "source": [
    "# сохранение карты в html-формат\n",
    "Map.save(\"food.html\")"
   ]
  },
  {
   "cell_type": "code",
   "execution_count": null,
   "metadata": {},
   "outputs": [],
   "source": []
  },
  {
   "cell_type": "code",
   "execution_count": null,
   "metadata": {},
   "outputs": [],
   "source": [
    "# загрузка конфига\n",
    "# нужен для корректной работы функции сохранения карты в виде изображения\n",
    "with open(\"../config.json\") as file:\n",
    "    config = json.load(file)"
   ]
  },
  {
   "cell_type": "code",
   "execution_count": null,
   "metadata": {},
   "outputs": [],
   "source": [
    "%%time\n",
    "# Сохранение карты в виде изображения\n",
    "map_to_png(Map, config, \"food.png\")"
   ]
  },
  {
   "cell_type": "code",
   "execution_count": null,
   "metadata": {},
   "outputs": [],
   "source": []
  },
  {
   "cell_type": "code",
   "execution_count": null,
   "metadata": {},
   "outputs": [],
   "source": []
  }
 ],
 "metadata": {
  "kernelspec": {
   "display_name": "Python 3 (ipykernel)",
   "language": "python",
   "name": "python3"
  },
  "language_info": {
   "codemirror_mode": {
    "name": "ipython",
    "version": 3
   },
   "file_extension": ".py",
   "mimetype": "text/x-python",
   "name": "python",
   "nbconvert_exporter": "python",
   "pygments_lexer": "ipython3",
   "version": "3.9.7"
  },
  "vscode": {
   "interpreter": {
    "hash": "7e1998ff7f8aa20ada591c520b972326324e5ea05489af9e422744c7c09f6dad"
   }
  }
 },
 "nbformat": 4,
 "nbformat_minor": 2
}
